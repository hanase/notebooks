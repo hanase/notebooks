{
 "metadata": {
  "name": "analyse_school_models"
 },
 "nbformat": 3,
 "nbformat_minor": 0,
 "worksheets": [
  {
   "cells": [
    {
     "cell_type": "code",
     "collapsed": false,
     "input": [
      "%run ~/workspace/src/opus_core/tools/explore_data.py -d ~/workspace/data/psrc_parcel/runs/run_565_school_models/2001\n",
      "ex.set_dataset_pool(['psrc_parcel', 'urbansim_parcel', 'urbansim', 'opus_core'])"
     ],
     "language": "python",
     "metadata": {},
     "outputs": [],
     "prompt_number": 71
    },
    {
     "cell_type": "code",
     "collapsed": false,
     "input": [
      "dist_to_school = ex.compute_expression('psrc_parcel.person.euclidean_distance_from_home_to_school')\n",
      "agecat = ex.compute_expression('psrc_parcel.person.age_category')"
     ],
     "language": "python",
     "metadata": {},
     "outputs": [
      {
       "output_type": "stream",
       "stream": "stdout",
       "text": [
        "psrc_parcel.person.euclidean_distance_from_home_to_school"
       ]
      },
      {
       "output_type": "stream",
       "stream": "stdout",
       "text": [
        "\n"
       ]
      },
      {
       "output_type": "stream",
       "stream": "stdout",
       "text": [
        "    parcel_id = person.disaggregate(urbansim_parcel.household.parcel_id)"
       ]
      },
      {
       "output_type": "stream",
       "stream": "stdout",
       "text": [
        "\n"
       ]
      },
      {
       "output_type": "stream",
       "stream": "stdout",
       "text": [
        "        parcel_id = household.disaggregate(urbansim_parcel.building.parcel_id)"
       ]
      },
      {
       "output_type": "stream",
       "stream": "stdout",
       "text": [
        "....4.3 sec"
       ]
      },
      {
       "output_type": "stream",
       "stream": "stdout",
       "text": [
        "\n"
       ]
      },
      {
       "output_type": "stream",
       "stream": "stdout",
       "text": [
        "    parcel_id = person.disaggregate(urbansim_parcel.household.parcel_id)"
       ]
      },
      {
       "output_type": "stream",
       "stream": "stdout",
       "text": [
        "\n"
       ]
      },
      {
       "output_type": "stream",
       "stream": "stdout",
       "text": [
        "    school_parcel_id = person.disaggregate(school.parcel_id)"
       ]
      },
      {
       "output_type": "stream",
       "stream": "stdout",
       "text": [
        ".............1.2 sec"
       ]
      },
      {
       "output_type": "stream",
       "stream": "stdout",
       "text": [
        "\n"
       ]
      },
      {
       "output_type": "stream",
       "stream": "stdout",
       "text": [
        "psrc_parcel.person.euclidean_distance_from_home_to_school"
       ]
      },
      {
       "output_type": "stream",
       "stream": "stdout",
       "text": [
        "\n"
       ]
      },
      {
       "output_type": "stream",
       "stream": "stdout",
       "text": [
        "age_category = (1 * (person.age < 5)) + (2 * numpy.logical_and(person.age >=5, person.age < 11)) + (3 * numpy.logical_and(person.age >= 11, person.age < 15)) + (4 * numpy.logical_and(person.age >= 15, person.age < 19)) + (5 * (person.age >= 19))"
       ]
      },
      {
       "output_type": "stream",
       "stream": "stdout",
       "text": [
        "....0.5 sec"
       ]
      },
      {
       "output_type": "stream",
       "stream": "stdout",
       "text": [
        "\n"
       ]
      }
     ],
     "prompt_number": 72
    },
    {
     "cell_type": "code",
     "collapsed": false,
     "input": [
      "publ2 = ex.compute_expression('is_student_in_public_school_2 = (person.student < 3) * (person.school_type==1) * (psrc_parcel.person.age_category==2)')\n",
      "priv2 = ex.compute_expression('is_student_in_private_school_2 = (person.student < 3) * (person.school_type==2) * (psrc_parcel.person.age_category==2)')\n",
      "publ3 = ex.compute_expression('is_student_in_public_school_3 = (person.student < 3) * (person.school_type==1) * (psrc_parcel.person.age_category==3)')\n",
      "priv3 = ex.compute_expression('is_student_in_private_school_3 = (person.student < 3) * (person.school_type==2) * (psrc_parcel.person.age_category==3)')\n",
      "publ4 = ex.compute_expression('is_student_in_public_school_4 = (person.student < 3) * (person.school_type==1) * (psrc_parcel.person.age_category==4)')\n",
      "priv4 = ex.compute_expression('is_student_in_private_school_4 = (person.student < 3) * (person.school_type==2) * (psrc_parcel.person.age_category==4)')\n",
      "univ = ex.compute_expression('is_student_in_college = (person.student < 3) * (psrc_parcel.person.age_category==5)')"
     ],
     "language": "python",
     "metadata": {},
     "outputs": [
      {
       "output_type": "stream",
       "stream": "stdout",
       "text": [
        "is_student_in_public_school_2 = (person.student < 3) * (person.school_type==1) * (psrc_parcel.person.age_category==2)"
       ]
      },
      {
       "output_type": "stream",
       "stream": "stdout",
       "text": [
        "....0.2 sec"
       ]
      },
      {
       "output_type": "stream",
       "stream": "stdout",
       "text": [
        "\n"
       ]
      },
      {
       "output_type": "stream",
       "stream": "stdout",
       "text": [
        "is_student_in_private_school_2 = (person.student < 3) * (person.school_type==2) * (psrc_parcel.person.age_category==2)"
       ]
      },
      {
       "output_type": "stream",
       "stream": "stdout",
       "text": [
        "....0.0 sec"
       ]
      },
      {
       "output_type": "stream",
       "stream": "stdout",
       "text": [
        "\n"
       ]
      },
      {
       "output_type": "stream",
       "stream": "stdout",
       "text": [
        "is_student_in_public_school_3 = (person.student < 3) * (person.school_type==1) * (psrc_parcel.person.age_category==3)"
       ]
      },
      {
       "output_type": "stream",
       "stream": "stdout",
       "text": [
        "....0.0 sec"
       ]
      },
      {
       "output_type": "stream",
       "stream": "stdout",
       "text": [
        "\n"
       ]
      },
      {
       "output_type": "stream",
       "stream": "stdout",
       "text": [
        "is_student_in_private_school_3 = (person.student < 3) * (person.school_type==2) * (psrc_parcel.person.age_category==3)"
       ]
      },
      {
       "output_type": "stream",
       "stream": "stdout",
       "text": [
        "....0.0 sec"
       ]
      },
      {
       "output_type": "stream",
       "stream": "stdout",
       "text": [
        "\n"
       ]
      },
      {
       "output_type": "stream",
       "stream": "stdout",
       "text": [
        "is_student_in_public_school_4 = (person.student < 3) * (person.school_type==1) * (psrc_parcel.person.age_category==4)"
       ]
      },
      {
       "output_type": "stream",
       "stream": "stdout",
       "text": [
        "....0.0 sec"
       ]
      },
      {
       "output_type": "stream",
       "stream": "stdout",
       "text": [
        "\n"
       ]
      },
      {
       "output_type": "stream",
       "stream": "stdout",
       "text": [
        "is_student_in_private_school_4 = (person.student < 3) * (person.school_type==2) * (psrc_parcel.person.age_category==4)"
       ]
      },
      {
       "output_type": "stream",
       "stream": "stdout",
       "text": [
        "....0.0 sec"
       ]
      },
      {
       "output_type": "stream",
       "stream": "stdout",
       "text": [
        "\n"
       ]
      },
      {
       "output_type": "stream",
       "stream": "stdout",
       "text": [
        "is_student_in_college = (person.student < 3) * (psrc_parcel.person.age_category==5)"
       ]
      },
      {
       "output_type": "stream",
       "stream": "stdout",
       "text": [
        "....0.0 sec"
       ]
      },
      {
       "output_type": "stream",
       "stream": "stdout",
       "text": [
        "\n"
       ]
      }
     ],
     "prompt_number": 73
    },
    {
     "cell_type": "code",
     "collapsed": false,
     "input": [
      "from numpy import median\n",
      "print median(dist_to_school[publ2[publ2>=0]]/5280).round(2), median(dist_to_school[priv2[priv2>=0]]/5280).round(2)\n",
      "print median(dist_to_school[publ3[publ3>=0]]/5280).round(2), median(dist_to_school[priv3[priv3>=0]]/5280).round(2)\n",
      "print median(dist_to_school[publ4[publ4>=0]]/5280).round(2), median(dist_to_school[priv4[priv4>=0]]/5280).round(2)\n",
      "print median(dist_to_school[univ[univ>=0]]/5280).round(2)"
     ],
     "language": "python",
     "metadata": {},
     "outputs": [
      {
       "output_type": "stream",
       "stream": "stdout",
       "text": [
        "1.66 "
       ]
      },
      {
       "output_type": "stream",
       "stream": "stdout",
       "text": [
        "10.36\n",
        "2.8"
       ]
      },
      {
       "output_type": "stream",
       "stream": "stdout",
       "text": [
        " 10.82\n",
        "2.73"
       ]
      },
      {
       "output_type": "stream",
       "stream": "stdout",
       "text": [
        " 3.54\n",
        "16.11"
       ]
      },
      {
       "output_type": "stream",
       "stream": "stdout",
       "text": [
        "\n"
       ]
      }
     ],
     "prompt_number": 74
    },
    {
     "cell_type": "code",
     "collapsed": false,
     "input": [
      "psautime = ex.compute_expression('psrc_parcel.person.travel_time_from_home_to_school_am * (person.student < 3) -1*(person.student == 3)')\n",
      "pstype= ex.compute_expression('(person.student*(numpy.logical_or(person.student==1, person.student==2))).astype(int32)')"
     ],
     "language": "python",
     "metadata": {},
     "outputs": [
      {
       "output_type": "stream",
       "stream": "stdout",
       "text": [
        "psrc_parcel.person.travel_time_from_home_to_school_am * (person.student < 3) -1*(person.student == 3)"
       ]
      },
      {
       "output_type": "stream",
       "stream": "stdout",
       "text": [
        "\n"
       ]
      },
      {
       "output_type": "stream",
       "stream": "stdout",
       "text": [
        "    psrc_parcel.person.travel_time_from_home_to_school_am"
       ]
      },
      {
       "output_type": "stream",
       "stream": "stdout",
       "text": [
        "\n"
       ]
      },
      {
       "output_type": "stream",
       "stream": "stdout",
       "text": [
        "        residence_zone_id = person.disaggregate(urbansim_parcel.household.zone_id)"
       ]
      },
      {
       "output_type": "stream",
       "stream": "stdout",
       "text": [
        "\n"
       ]
      },
      {
       "output_type": "stream",
       "stream": "stdout",
       "text": [
        "            zone_id = household.disaggregate(urbansim_parcel.building.zone_id)"
       ]
      },
      {
       "output_type": "stream",
       "stream": "stdout",
       "text": [
        "\n"
       ]
      },
      {
       "output_type": "stream",
       "stream": "stdout",
       "text": [
        "                zone_id = building.disaggregate(parcel.zone_id)"
       ]
      },
      {
       "output_type": "stream",
       "stream": "stdout",
       "text": [
        "..........0.4 sec"
       ]
      },
      {
       "output_type": "stream",
       "stream": "stdout",
       "text": [
        "\n"
       ]
      },
      {
       "output_type": "stream",
       "stream": "stdout",
       "text": [
        "            zone_id = household.disaggregate(urbansim_parcel.building.zone_id)"
       ]
      },
      {
       "output_type": "stream",
       "stream": "stdout",
       "text": [
        "\n"
       ]
      },
      {
       "output_type": "stream",
       "stream": "stdout",
       "text": [
        "        residence_zone_id = person.disaggregate(urbansim_parcel.household.zone_id)"
       ]
      },
      {
       "output_type": "stream",
       "stream": "stdout",
       "text": [
        "\n"
       ]
      },
      {
       "output_type": "stream",
       "stream": "stdout",
       "text": [
        "        attending_school_zone_id = person.disaggregate(parcel.zone_id, intermediates=[school])"
       ]
      },
      {
       "output_type": "stream",
       "stream": "stdout",
       "text": [
        "\n"
       ]
      },
      {
       "output_type": "stream",
       "stream": "stdout",
       "text": [
        "            school.disaggregate(parcel.zone_id)"
       ]
      },
      {
       "output_type": "stream",
       "stream": "stdout",
       "text": [
        "..........................0.0 sec"
       ]
      },
      {
       "output_type": "stream",
       "stream": "stdout",
       "text": [
        "\n"
       ]
      },
      {
       "output_type": "stream",
       "stream": "stdout",
       "text": [
        "        attending_school_zone_id = person.disaggregate(parcel.zone_id, intermediates=[school])"
       ]
      },
      {
       "output_type": "stream",
       "stream": "stdout",
       "text": [
        "\n"
       ]
      },
      {
       "output_type": "stream",
       "stream": "stdout",
       "text": [
        "        WARNING: zone pairs at index (array([      0,       2,       3, ..., 3194423, 3194424, 3194425]),) are not in travel data; value set to 0."
       ]
      },
      {
       "output_type": "stream",
       "stream": "stdout",
       "text": [
        "\n"
       ]
      },
      {
       "output_type": "stream",
       "stream": "stdout",
       "text": [
        "    psrc_parcel.person.travel_time_from_home_to_school_am"
       ]
      },
      {
       "output_type": "stream",
       "stream": "stdout",
       "text": [
        "\n"
       ]
      },
      {
       "output_type": "stream",
       "stream": "stdout",
       "text": [
        "psrc_parcel.person.travel_time_from_home_to_school_am * (person.student < 3) -1*(person.student == 3)"
       ]
      },
      {
       "output_type": "stream",
       "stream": "stdout",
       "text": [
        "\n"
       ]
      },
      {
       "output_type": "stream",
       "stream": "stdout",
       "text": [
        "(person.student*(numpy.logical_or(person.student==1, person.student==2))).astype(int32)"
       ]
      },
      {
       "output_type": "stream",
       "stream": "stdout",
       "text": [
        "....0.1 sec"
       ]
      },
      {
       "output_type": "stream",
       "stream": "stdout",
       "text": [
        "\n"
       ]
      }
     ],
     "prompt_number": 75
    },
    {
     "cell_type": "code",
     "collapsed": false,
     "input": [
      "from numpy import where\n",
      "person = ex.get_dataset('person')\n",
      "w0time = (psautime<=0)*(pstype >0)*(person['parcel_id']>0)\n",
      "w0time_not_home_school = w0time * (person['home_school']<>1)\n",
      "no_school = w0time_not_home_school * (person['school_id'] <=0)\n",
      "ino_school = where(no_school)[0]\n",
      "print \"zero travel time:\", w0time.sum()\n",
      "print \"zero travel time not home-schooled:\", w0time_not_home_school.sum()\n",
      "print \"zero travel time home-schooled:\", w0time.sum() - w0time_not_home_school.sum()\n",
      "print \"no school:\", no_school.sum()"
     ],
     "language": "python",
     "metadata": {},
     "outputs": [
      {
       "output_type": "stream",
       "stream": "stdout",
       "text": [
        "zero travel time: 56524\n",
        "zero travel time not home-schooled: "
       ]
      },
      {
       "output_type": "stream",
       "stream": "stdout",
       "text": [
        "36471\n",
        "zero travel time home-schooled: "
       ]
      },
      {
       "output_type": "stream",
       "stream": "stdout",
       "text": [
        "20053\n",
        "no school: 22647\n"
       ]
      }
     ],
     "prompt_number": 76
    },
    {
     "cell_type": "code",
     "collapsed": false,
     "input": [
      "(person['school_type'][ino_school]==2).sum()"
     ],
     "language": "python",
     "metadata": {},
     "outputs": [
      {
       "output_type": "pyout",
       "prompt_number": 77,
       "text": [
        "5154"
       ]
      }
     ],
     "prompt_number": 77
    },
    {
     "cell_type": "code",
     "collapsed": false,
     "input": [
      "person['student'][ino_school][where(person['school_type'][ino_school]==1)].size"
     ],
     "language": "python",
     "metadata": {},
     "outputs": [
      {
       "output_type": "pyout",
       "prompt_number": 84,
       "text": [
        "17493"
       ]
      }
     ],
     "prompt_number": 84
    },
    {
     "cell_type": "code",
     "collapsed": false,
     "input": [
      "(person['school_id'] ==0).sum()"
     ],
     "language": "python",
     "metadata": {},
     "outputs": [
      {
       "output_type": "pyout",
       "prompt_number": 57,
       "text": [
        "0"
       ]
      }
     ],
     "prompt_number": 57
    },
    {
     "cell_type": "code",
     "collapsed": false,
     "input": [
      "from numpy import unique\n",
      "unique(person['age_category'][ino_school])"
     ],
     "language": "python",
     "metadata": {},
     "outputs": [
      {
       "output_type": "pyout",
       "prompt_number": 86,
       "text": [
        "array([1])"
       ]
      }
     ],
     "prompt_number": 86
    },
    {
     "cell_type": "code",
     "collapsed": false,
     "input": [],
     "language": "python",
     "metadata": {},
     "outputs": []
    }
   ],
   "metadata": {}
  }
 ]
}