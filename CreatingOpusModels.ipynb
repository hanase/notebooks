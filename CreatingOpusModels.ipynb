{
 "metadata": {
  "name": "CreatingOpusModels"
 },
 "nbformat": 3,
 "nbformat_minor": 0,
 "worksheets": [
  {
   "cells": [
    {
     "cell_type": "heading",
     "level": 1,
     "metadata": {},
     "source": [
      "Opus Models"
     ]
    },
    {
     "cell_type": "heading",
     "level": 2,
     "metadata": {},
     "source": [
      "\"Hello World!\" Model"
     ]
    },
    {
     "cell_type": "code",
     "collapsed": false,
     "input": [
      "from opus_core.models.model import Model\n",
      "class MyModel(Model):\n",
      "    def run(self):\n",
      "        print \"\\n\\nHello World, I'm an Opus model!\""
     ],
     "language": "python",
     "metadata": {},
     "outputs": [],
     "prompt_number": 19
    },
    {
     "cell_type": "code",
     "collapsed": false,
     "input": [
      "MyModel().run()"
     ],
     "language": "python",
     "metadata": {},
     "outputs": [
      {
       "output_type": "stream",
       "stream": "stdout",
       "text": [
        "Running __main__.MyModel: started on Tue May 14 17:30:42 2013"
       ]
      },
      {
       "output_type": "stream",
       "stream": "stdout",
       "text": [
        "\n",
        "\n",
        "Hello World, I'm an Opus model!\n",
        "............0.0 sec"
       ]
      },
      {
       "output_type": "stream",
       "stream": "stdout",
       "text": [
        "\n"
       ]
      }
     ],
     "prompt_number": 20
    },
    {
     "cell_type": "code",
     "collapsed": false,
     "input": [
      "from opus_core.models.model import Model\n",
      "from opus_core.logger import logger\n",
      "class MyModel(Model):\n",
      "    model_name = 'My Opus Model'\n",
      "    def run(self):\n",
      "        logger.log_status(\"Hello World, I'm an Opus model!\")"
     ],
     "language": "python",
     "metadata": {},
     "outputs": [],
     "prompt_number": 21
    },
    {
     "cell_type": "code",
     "collapsed": false,
     "input": [
      "MyModel().run()"
     ],
     "language": "python",
     "metadata": {},
     "outputs": [
      {
       "output_type": "stream",
       "stream": "stdout",
       "text": [
        "Running My Opus Model (from __main__): started on Tue May 14 17:30:56 2013"
       ]
      },
      {
       "output_type": "stream",
       "stream": "stdout",
       "text": [
        "\n"
       ]
      },
      {
       "output_type": "stream",
       "stream": "stdout",
       "text": [
        "    Hello World, I'm an Opus model!"
       ]
      },
      {
       "output_type": "stream",
       "stream": "stdout",
       "text": [
        "\n"
       ]
      },
      {
       "output_type": "stream",
       "stream": "stdout",
       "text": [
        "Running My Opus Model (from __main__): completed.........................0.0 sec"
       ]
      },
      {
       "output_type": "stream",
       "stream": "stdout",
       "text": [
        "\n"
       ]
      }
     ],
     "prompt_number": 22
    },
    {
     "cell_type": "heading",
     "level": 2,
     "metadata": {},
     "source": [
      "Attribute Checker"
     ]
    },
    {
     "cell_type": "markdown",
     "metadata": {},
     "source": [
      "Model that prints out simple statistics of the given attribute:"
     ]
    },
    {
     "cell_type": "code",
     "collapsed": false,
     "input": [
      "from opus_core.models.model import Model\n",
      "from opus_core.logger import logger\n",
      "class CheckAttributeModel(Model):\n",
      "    model_name = 'Check Attribute Model'\n",
      "    def run(self, dataset, attribute):\n",
      "        logger.log_status(\"Stats for attribute %s:\" % attribute, \n",
      "                            '\\n\\tmin\\t:', dataset[attribute].min(), \n",
      "                            '\\n\\taverage\\t:', dataset[attribute].mean(), \n",
      "                            '\\n\\tmax\\t:', dataset[attribute].max())"
     ],
     "language": "python",
     "metadata": {},
     "outputs": [],
     "prompt_number": 23
    },
    {
     "cell_type": "markdown",
     "metadata": {},
     "source": [
      "Create a dataset using a tab storage:"
     ]
    },
    {
     "cell_type": "code",
     "collapsed": false,
     "input": [
      "from opus_core.storage_factory import StorageFactory\n",
      "from opus_core.datasets.dataset import Dataset\n",
      "\n",
      "storage = StorageFactory().get_storage(type = \"tab_storage\",\n",
      "                                       storage_location = \"/Users/hana/workspace/src/urbansim/docs/demo\" )\n",
      "households = Dataset(in_storage = storage, in_table_name=\"householdset\",\n",
      "                     id_name=\"agent_id\", dataset_name = \"household\")\n",
      "households.summary()"
     ],
     "language": "python",
     "metadata": {},
     "outputs": [
      {
       "output_type": "stream",
       "stream": "stdout",
       "text": [
        "           Attribute name\t    mean\t      sd\t      sum\t    min\t    max\n"
       ]
      },
      {
       "output_type": "stream",
       "stream": "stdout",
       "text": [
        "----------------------------------------------------------------------------------------------\n"
       ]
      },
      {
       "output_type": "stream",
       "stream": "stdout",
       "text": [
        "                   income\t  4850.0\t 4505.83\t    48500\t    500\t  15000\n"
       ]
      },
      {
       "output_type": "stream",
       "stream": "stdout",
       "text": [
        "                 location\t     4.1\t    2.59\t       41\t      1\t      9\n"
       ]
      },
      {
       "output_type": "stream",
       "stream": "stdout",
       "text": [
        "                  persons\t     2.7\t    1.27\t       27\t      1\t      5\n"
       ]
      },
      {
       "output_type": "stream",
       "stream": "stdout",
       "text": [
        "\n",
        "Size: 10 records\n"
       ]
      },
      {
       "output_type": "stream",
       "stream": "stdout",
       "text": [
        "identifiers:\n"
       ]
      },
      {
       "output_type": "stream",
       "stream": "stdout",
       "text": [
        "\tagent_id in range 1-10\n"
       ]
      }
     ],
     "prompt_number": 24
    },
    {
     "cell_type": "markdown",
     "metadata": {},
     "source": [
      "Call Attribute Checker:"
     ]
    },
    {
     "cell_type": "code",
     "collapsed": false,
     "input": [
      "CheckAttributeModel().run(households, 'income')"
     ],
     "language": "python",
     "metadata": {},
     "outputs": [
      {
       "output_type": "stream",
       "stream": "stdout",
       "text": [
        "Running Check Attribute Model (from __main__): started on Tue May 14 18:07:31 2013"
       ]
      },
      {
       "output_type": "stream",
       "stream": "stdout",
       "text": [
        "\n"
       ]
      },
      {
       "output_type": "stream",
       "stream": "stdout",
       "text": [
        "    Stats for attribute income: \n",
        "    \tmin\t: 500.0 \n",
        "    \taverage\t: 4850.0 \n",
        "    \tmax\t: 15000.0"
       ]
      },
      {
       "output_type": "stream",
       "stream": "stdout",
       "text": [
        "\n"
       ]
      },
      {
       "output_type": "stream",
       "stream": "stdout",
       "text": [
        "Running Check Attribute Model (from __main__): completed.................0.0 sec"
       ]
      },
      {
       "output_type": "stream",
       "stream": "stdout",
       "text": [
        "\n"
       ]
      }
     ],
     "prompt_number": 25
    },
    {
     "cell_type": "code",
     "collapsed": false,
     "input": [],
     "language": "python",
     "metadata": {},
     "outputs": []
    }
   ],
   "metadata": {}
  }
 ]
}