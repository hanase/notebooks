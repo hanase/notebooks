{
 "metadata": {
  "name": "estimation_school_models"
 },
 "nbformat": 3,
 "nbformat_minor": 0,
 "worksheets": [
  {
   "cells": [
    {
     "cell_type": "heading",
     "level": 3,
     "metadata": {},
     "source": [
      "Home-school model"
     ]
    },
    {
     "cell_type": "heading",
     "level": 4,
     "metadata": {},
     "source": [
      "Model for oldest child:"
     ]
    },
    {
     "cell_type": "code",
     "collapsed": true,
     "input": [
      "%run ~/workspace/src/opus_core/tools/start_estimation.py -x /Users/hana/workspace/project_configs/psrc_parcel_school.xml -m home_school_for_oldest_child_model"
     ],
     "language": "python",
     "metadata": {},
     "outputs": [
      {
       "output_type": "stream",
       "stream": "stdout",
       "text": [
        "Loading XML configuration: /Users/hana/workspace/project_configs/psrc_parcel_school.xml"
       ]
      },
      {
       "output_type": "stream",
       "stream": "stdout",
       "text": [
        "\n"
       ]
      },
      {
       "output_type": "stream",
       "stream": "stdout",
       "text": [
        "Loading XML configuration: /Users/hana/workspace/project_configs/psrc_parcel_default.xml"
       ]
      },
      {
       "output_type": "stream",
       "stream": "stdout",
       "text": [
        "\n"
       ]
      },
      {
       "output_type": "stream",
       "stream": "stdout",
       "text": [
        "Loading XML configuration: /Users/hana/workspace/src/psrc_parcel/configs/psrc_parcel.xml"
       ]
      },
      {
       "output_type": "stream",
       "stream": "stdout",
       "text": [
        "\n"
       ]
      },
      {
       "output_type": "stream",
       "stream": "stdout",
       "text": [
        "Loading XML configuration: /Users/hana/workspace/src/urbansim_parcel/configs/urbansim_parcel.xml"
       ]
      },
      {
       "output_type": "stream",
       "stream": "stdout",
       "text": [
        "\n"
       ]
      },
      {
       "output_type": "stream",
       "stream": "stdout",
       "text": [
        "Loading XML configuration: /Users/hana/workspace/src/urbansim/configs/urbansim.xml"
       ]
      },
      {
       "output_type": "stream",
       "stream": "stdout",
       "text": [
        "\n"
       ]
      },
      {
       "output_type": "stream",
       "stream": "stdout",
       "text": [
        "Cache Directory set to: /Users/hana/workspace/data/psrc_parcel/base_year_data_school_estimation"
       ]
      },
      {
       "output_type": "stream",
       "stream": "stdout",
       "text": [
        "\n"
       ]
      },
      {
       "output_type": "stream",
       "stream": "stdout",
       "text": [
        "Start simulation run: started on Tue May 21 15:26:05 2013"
       ]
      },
      {
       "output_type": "stream",
       "stream": "stdout",
       "text": [
        "\n"
       ]
      },
      {
       "output_type": "stream",
       "stream": "stdout",
       "text": [
        "    random seed = 1"
       ]
      },
      {
       "output_type": "stream",
       "stream": "stdout",
       "text": [
        "\n"
       ]
      },
      {
       "output_type": "stream",
       "stream": "stdout",
       "text": [
        "    Starting simulation for year 2006: started on Tue May 21 15:26:05 2013"
       ]
      },
      {
       "output_type": "stream",
       "stream": "stdout",
       "text": [
        "\n"
       ]
      },
      {
       "output_type": "stream",
       "stream": "stdout",
       "text": [
        "        Closing log file: /Users/hana/workspace/data/psrc_parcel/base_year_data_school_estimation/run_model_system.log"
       ]
      },
      {
       "output_type": "stream",
       "stream": "stdout",
       "text": [
        "\n"
       ]
      },
      {
       "output_type": "stream",
       "stream": "stdout",
       "text": [
        "        Logging to file: /Users/hana/workspace/data/psrc_parcel/base_year_data_school_estimation/year_2006_log.txt"
       ]
      },
      {
       "output_type": "stream",
       "stream": "stdout",
       "text": [
        "\n"
       ]
      },
      {
       "output_type": "stream",
       "stream": "stdout",
       "text": [
        "        Simulate year 2006: started on Tue May 21 15:26:05 2013"
       ]
      },
      {
       "output_type": "stream",
       "stream": "stdout",
       "text": [
        "\n"
       ]
      },
      {
       "output_type": "stream",
       "stream": "stdout",
       "text": [
        "            sfilter = (psrc_parcel.person.has_older_sibling_in_school==0) * numpy.logical_and(person.is_in_school, numpy.logical_or(person.stype == 2, person.stype == 6))"
       ]
      },
      {
       "output_type": "stream",
       "stream": "stdout",
       "text": [
        "\n"
       ]
      },
      {
       "output_type": "stream",
       "stream": "stdout",
       "text": [
        "                has_older_sibling_in_school = person.disaggregate(psrc_parcel.household.age_of_oldest_child_in_school) > person.age"
       ]
      },
      {
       "output_type": "stream",
       "stream": "stdout",
       "text": [
        "\n"
       ]
      },
      {
       "output_type": "stream",
       "stream": "stdout",
       "text": [
        "                    age_of_oldest_child_in_school = household.aggregate((psrc_parcel.person.student<3) * (person.age <= 18) * person.age, function=maximum)"
       ]
      },
      {
       "output_type": "stream",
       "stream": "stdout",
       "text": [
        "\n"
       ]
      },
      {
       "output_type": "stream",
       "stream": "stdout",
       "text": [
        "                        (psrc_parcel.person.student<3)*(person.age<=18)*person.age"
       ]
      },
      {
       "output_type": "stream",
       "stream": "stdout",
       "text": [
        "\n"
       ]
      },
      {
       "output_type": "stream",
       "stream": "stdout",
       "text": [
        "                            student = numpy.logical_or(person.stype == 2, person.stype == 6)"
       ]
      },
      {
       "output_type": "stream",
       "stream": "stdout",
       "text": [
        "....0.0 sec"
       ]
      },
      {
       "output_type": "stream",
       "stream": "stdout",
       "text": [
        "\n"
       ]
      },
      {
       "output_type": "stream",
       "stream": "stdout",
       "text": [
        "                        (psrc_parcel.person.student<3)*(person.age<=18)*person.age"
       ]
      },
      {
       "output_type": "stream",
       "stream": "stdout",
       "text": [
        "\n"
       ]
      },
      {
       "output_type": "stream",
       "stream": "stdout",
       "text": [
        "                    age_of_oldest_child_in_school = household.aggregate((psrc_parcel.person.student<3) * (person.age <= 18) * person.age, function=maximum)"
       ]
      },
      {
       "output_type": "stream",
       "stream": "stdout",
       "text": [
        "\n"
       ]
      },
      {
       "output_type": "stream",
       "stream": "stdout",
       "text": [
        "                has_older_sibling_in_school = person.disaggregate(psrc_parcel.household.age_of_oldest_child_in_school) > person.age"
       ]
      },
      {
       "output_type": "stream",
       "stream": "stdout",
       "text": [
        "\n"
       ]
      },
      {
       "output_type": "stream",
       "stream": "stdout",
       "text": [
        "            sfilter = (psrc_parcel.person.has_older_sibling_in_school==0) * numpy.logical_and(person.is_in_school, numpy.logical_or(person.stype == 2, person.stype == 6))"
       ]
      },
      {
       "output_type": "stream",
       "stream": "stdout",
       "text": [
        "\n"
       ]
      },
      {
       "output_type": "stream",
       "stream": "stdout",
       "text": [
        "            person.school_type==3"
       ]
      },
      {
       "output_type": "stream",
       "stream": "stdout",
       "text": [
        "........................................0.0 sec"
       ]
      },
      {
       "output_type": "stream",
       "stream": "stdout",
       "text": [
        "\n"
       ]
      },
      {
       "output_type": "stream",
       "stream": "stdout",
       "text": [
        "            Estimating Home School Model (from psrc_parcel.models.home_school_model): started on Tue May 21 15:26:08 2013"
       ]
      },
      {
       "output_type": "stream",
       "stream": "stdout",
       "text": [
        "\n"
       ]
      },
      {
       "output_type": "stream",
       "stream": "stdout",
       "text": [
        "                has_nonworkers = person.disaggregate((urbansim_parcel.household.number_of_adults-household.workers) > 0)"
       ]
      },
      {
       "output_type": "stream",
       "stream": "stdout",
       "text": [
        "\n"
       ]
      },
      {
       "output_type": "stream",
       "stream": "stdout",
       "text": [
        "                    (urbansim_parcel.household.number_of_adults-household.workers)>0"
       ]
      },
      {
       "output_type": "stream",
       "stream": "stdout",
       "text": [
        "\n"
       ]
      },
      {
       "output_type": "stream",
       "stream": "stdout",
       "text": [
        "                        number_of_adults = household.aggregate(person.age>=18)"
       ]
      },
      {
       "output_type": "stream",
       "stream": "stdout",
       "text": [
        "\n"
       ]
      },
      {
       "output_type": "stream",
       "stream": "stdout",
       "text": [
        "                            person.age>=18"
       ]
      },
      {
       "output_type": "stream",
       "stream": "stdout",
       "text": [
        "...............................0.0 sec"
       ]
      },
      {
       "output_type": "stream",
       "stream": "stdout",
       "text": [
        "\n"
       ]
      },
      {
       "output_type": "stream",
       "stream": "stdout",
       "text": [
        "                        number_of_adults = household.aggregate(person.age>=18)"
       ]
      },
      {
       "output_type": "stream",
       "stream": "stdout",
       "text": [
        "\n"
       ]
      },
      {
       "output_type": "stream",
       "stream": "stdout",
       "text": [
        "                    (urbansim_parcel.household.number_of_adults-household.workers)>0"
       ]
      },
      {
       "output_type": "stream",
       "stream": "stdout",
       "text": [
        "\n"
       ]
      },
      {
       "output_type": "stream",
       "stream": "stdout",
       "text": [
        "                has_nonworkers = person.disaggregate((urbansim_parcel.household.number_of_adults-household.workers) > 0)"
       ]
      },
      {
       "output_type": "stream",
       "stream": "stdout",
       "text": [
        "\n"
       ]
      },
      {
       "output_type": "stream",
       "stream": "stdout",
       "text": [
        "                hhchild = person.disaggregate(household.children)"
       ]
      },
      {
       "output_type": "stream",
       "stream": "stdout",
       "text": [
        "........0.1 sec"
       ]
      },
      {
       "output_type": "stream",
       "stream": "stdout",
       "text": [
        "\n"
       ]
      },
      {
       "output_type": "stream",
       "stream": "stdout",
       "text": [
        "                Choice set size: 2"
       ]
      },
      {
       "output_type": "stream",
       "stream": "stdout",
       "text": [
        "\n"
       ]
      },
      {
       "output_type": "stream",
       "stream": "stdout",
       "text": [
        "                submodel: -2"
       ]
      },
      {
       "output_type": "stream",
       "stream": "stdout",
       "text": [
        "\n"
       ]
      },
      {
       "output_type": "stream",
       "stream": "stdout",
       "text": [
        "                Convergence achieved."
       ]
      },
      {
       "output_type": "stream",
       "stream": "stdout",
       "text": [
        "\n"
       ]
      },
      {
       "output_type": "stream",
       "stream": "stdout",
       "text": [
        "                Akaike's Information Criterion (AIC):  177.855788663"
       ]
      },
      {
       "output_type": "stream",
       "stream": "stdout",
       "text": [
        "\n"
       ]
      },
      {
       "output_type": "stream",
       "stream": "stdout",
       "text": [
        "                Bayesian Information Criterion (BIC):  192.296122461"
       ]
      },
      {
       "output_type": "stream",
       "stream": "stdout",
       "text": [
        "\n"
       ]
      },
      {
       "output_type": "stream",
       "stream": "stdout",
       "text": [
        "                Number of Iterations:  7"
       ]
      },
      {
       "output_type": "stream",
       "stream": "stdout",
       "text": [
        "\n"
       ]
      },
      {
       "output_type": "stream",
       "stream": "stdout",
       "text": [
        "                ***********************************************"
       ]
      },
      {
       "output_type": "stream",
       "stream": "stdout",
       "text": [
        "\n"
       ]
      },
      {
       "output_type": "stream",
       "stream": "stdout",
       "text": [
        "                Log-likelihood is:            -85.9278943315"
       ]
      },
      {
       "output_type": "stream",
       "stream": "stdout",
       "text": [
        "\n"
       ]
      },
      {
       "output_type": "stream",
       "stream": "stdout",
       "text": [
        "                Null Log-likelihood is:       -630.76393431"
       ]
      },
      {
       "output_type": "stream",
       "stream": "stdout",
       "text": [
        "\n"
       ]
      },
      {
       "output_type": "stream",
       "stream": "stdout",
       "text": [
        "                Likelihood ratio index:       0.863771706565"
       ]
      },
      {
       "output_type": "stream",
       "stream": "stdout",
       "text": [
        "\n"
       ]
      },
      {
       "output_type": "stream",
       "stream": "stdout",
       "text": [
        "                Adj. likelihood ratio index:  0.859015569067"
       ]
      },
      {
       "output_type": "stream",
       "stream": "stdout",
       "text": [
        "\n"
       ]
      },
      {
       "output_type": "stream",
       "stream": "stdout",
       "text": [
        "                Number of observations:       910"
       ]
      },
      {
       "output_type": "stream",
       "stream": "stdout",
       "text": [
        "\n"
       ]
      },
      {
       "output_type": "stream",
       "stream": "stdout",
       "text": [
        "                Number of alternatives:       2"
       ]
      },
      {
       "output_type": "stream",
       "stream": "stdout",
       "text": [
        "\n"
       ]
      },
      {
       "output_type": "stream",
       "stream": "stdout",
       "text": [
        "                Suggested |t-value| >         2.6102575734"
       ]
      },
      {
       "output_type": "stream",
       "stream": "stdout",
       "text": [
        "\n"
       ]
      },
      {
       "output_type": "stream",
       "stream": "stdout",
       "text": [
        "                Convergence statistic is:     0.000229603143544"
       ]
      },
      {
       "output_type": "stream",
       "stream": "stdout",
       "text": [
        "\n"
       ]
      },
      {
       "output_type": "stream",
       "stream": "stdout",
       "text": [
        "                -----------------------------------------------"
       ]
      },
      {
       "output_type": "stream",
       "stream": "stdout",
       "text": [
        "\n"
       ]
      },
      {
       "output_type": "stream",
       "stream": "stdout",
       "text": [
        "                Coeff_names\testimate\tstd err\t\tt-values"
       ]
      },
      {
       "output_type": "stream",
       "stream": "stdout",
       "text": [
        "\n"
       ]
      },
      {
       "output_type": "stream",
       "stream": "stdout",
       "text": [
        "                  constant\t -5.5646\t0.673627\t-8.26066"
       ]
      },
      {
       "output_type": "stream",
       "stream": "stdout",
       "text": [
        "\n"
       ]
      },
      {
       "output_type": "stream",
       "stream": "stdout",
       "text": [
        "                has_nonworkers\t 1.02711\t0.500603\t 2.05174"
       ]
      },
      {
       "output_type": "stream",
       "stream": "stdout",
       "text": [
        "\n"
       ]
      },
      {
       "output_type": "stream",
       "stream": "stdout",
       "text": [
        "                  children\t0.549837\t0.227622\t 2.41557"
       ]
      },
      {
       "output_type": "stream",
       "stream": "stdout",
       "text": [
        "\n"
       ]
      },
      {
       "output_type": "stream",
       "stream": "stdout",
       "text": [
        "                ***********************************************"
       ]
      },
      {
       "output_type": "stream",
       "stream": "stdout",
       "text": [
        "\n"
       ]
      },
      {
       "output_type": "stream",
       "stream": "stdout",
       "text": [
        "            Estimating Home School Model (from psrc_parcel.models.home_school_model): completed...0.3 sec"
       ]
      },
      {
       "output_type": "stream",
       "stream": "stdout",
       "text": [
        "\n"
       ]
      },
      {
       "output_type": "stream",
       "stream": "stdout",
       "text": [
        "        Simulate year 2006: completed....................................3.2 sec"
       ]
      },
      {
       "output_type": "stream",
       "stream": "stdout",
       "text": [
        "\n"
       ]
      },
      {
       "output_type": "stream",
       "stream": "stdout",
       "text": [
        "        Closing log file: /Users/hana/workspace/data/psrc_parcel/base_year_data_school_estimation/year_2006_log.txt"
       ]
      },
      {
       "output_type": "stream",
       "stream": "stdout",
       "text": [
        "\n"
       ]
      },
      {
       "output_type": "stream",
       "stream": "stdout",
       "text": [
        "    Starting simulation for year 2006: completed.........................3.3 sec"
       ]
      },
      {
       "output_type": "stream",
       "stream": "stdout",
       "text": [
        "\n"
       ]
      },
      {
       "output_type": "stream",
       "stream": "stdout",
       "text": [
        "Start simulation run: completed..........................................3.3 sec"
       ]
      },
      {
       "output_type": "stream",
       "stream": "stdout",
       "text": [
        "\n"
       ]
      },
      {
       "output_type": "stream",
       "stream": "stdout",
       "text": [
        "Closing log file: /Users/hana/workspace/data/psrc_parcel/base_year_data_school_estimation/run_model_system.log"
       ]
      },
      {
       "output_type": "stream",
       "stream": "stdout",
       "text": [
        "\n"
       ]
      },
      {
       "output_type": "stream",
       "stream": "stderr",
       "text": [
        "/Library/Frameworks/GDAL.framework/Versions/1.7/Python/site-packages/numpy/lib/utils.py:140: DeprecationWarning: `unique1d` is deprecated!\n",
        "  warnings.warn(depdoc, DeprecationWarning)\n"
       ]
      }
     ],
     "prompt_number": 1
    },
    {
     "cell_type": "heading",
     "level": 4,
     "metadata": {},
     "source": [
      "Model for younger siblings"
     ]
    },
    {
     "cell_type": "code",
     "collapsed": true,
     "input": [
      "%run ~/workspace/src/opus_core/tools/start_estimation.py -x /Users/hana/workspace/project_configs/psrc_parcel_school.xml -m home_school_for_younger_children_model"
     ],
     "language": "python",
     "metadata": {},
     "outputs": [
      {
       "output_type": "stream",
       "stream": "stdout",
       "text": [
        "Loading XML configuration: /Users/hana/workspace/project_configs/psrc_parcel_school.xml"
       ]
      },
      {
       "output_type": "stream",
       "stream": "stdout",
       "text": [
        "\n"
       ]
      },
      {
       "output_type": "stream",
       "stream": "stdout",
       "text": [
        "Loading XML configuration: /Users/hana/workspace/project_configs/psrc_parcel_default.xml"
       ]
      },
      {
       "output_type": "stream",
       "stream": "stdout",
       "text": [
        "\n"
       ]
      },
      {
       "output_type": "stream",
       "stream": "stdout",
       "text": [
        "Loading XML configuration: /Users/hana/workspace/src/psrc_parcel/configs/psrc_parcel.xml"
       ]
      },
      {
       "output_type": "stream",
       "stream": "stdout",
       "text": [
        "\n"
       ]
      },
      {
       "output_type": "stream",
       "stream": "stdout",
       "text": [
        "Loading XML configuration: /Users/hana/workspace/src/urbansim_parcel/configs/urbansim_parcel.xml"
       ]
      },
      {
       "output_type": "stream",
       "stream": "stdout",
       "text": [
        "\n"
       ]
      },
      {
       "output_type": "stream",
       "stream": "stdout",
       "text": [
        "Loading XML configuration: /Users/hana/workspace/src/urbansim/configs/urbansim.xml"
       ]
      },
      {
       "output_type": "stream",
       "stream": "stdout",
       "text": [
        "\n"
       ]
      },
      {
       "output_type": "stream",
       "stream": "stdout",
       "text": [
        "Cache Directory set to: /Users/hana/workspace/data/psrc_parcel/base_year_data_school_estimation"
       ]
      },
      {
       "output_type": "stream",
       "stream": "stdout",
       "text": [
        "\n"
       ]
      },
      {
       "output_type": "stream",
       "stream": "stdout",
       "text": [
        "Start simulation run: started on Tue May 21 15:32:48 2013"
       ]
      },
      {
       "output_type": "stream",
       "stream": "stdout",
       "text": [
        "\n"
       ]
      },
      {
       "output_type": "stream",
       "stream": "stdout",
       "text": [
        "    random seed = 1"
       ]
      },
      {
       "output_type": "stream",
       "stream": "stdout",
       "text": [
        "\n"
       ]
      },
      {
       "output_type": "stream",
       "stream": "stdout",
       "text": [
        "    Starting simulation for year 2006: started on Tue May 21 15:32:48 2013"
       ]
      },
      {
       "output_type": "stream",
       "stream": "stdout",
       "text": [
        "\n"
       ]
      },
      {
       "output_type": "stream",
       "stream": "stdout",
       "text": [
        "        Closing log file: /Users/hana/workspace/data/psrc_parcel/base_year_data_school_estimation/run_model_system.log"
       ]
      },
      {
       "output_type": "stream",
       "stream": "stdout",
       "text": [
        "\n"
       ]
      },
      {
       "output_type": "stream",
       "stream": "stdout",
       "text": [
        "        Logging to file: /Users/hana/workspace/data/psrc_parcel/base_year_data_school_estimation/year_2006_log.txt"
       ]
      },
      {
       "output_type": "stream",
       "stream": "stdout",
       "text": [
        "\n"
       ]
      },
      {
       "output_type": "stream",
       "stream": "stdout",
       "text": [
        "        Simulate year 2006: started on Tue May 21 15:32:48 2013"
       ]
      },
      {
       "output_type": "stream",
       "stream": "stdout",
       "text": [
        "\n"
       ]
      },
      {
       "output_type": "stream",
       "stream": "stdout",
       "text": [
        "            sfilter = psrc_parcel.person.has_older_sibling_in_school * numpy.logical_and(person.is_in_school, numpy.logical_or(person.stype == 2, person.stype == 6))"
       ]
      },
      {
       "output_type": "stream",
       "stream": "stdout",
       "text": [
        "\n"
       ]
      },
      {
       "output_type": "stream",
       "stream": "stdout",
       "text": [
        "                has_older_sibling_in_school = person.disaggregate(psrc_parcel.household.age_of_oldest_child_in_school) > person.age"
       ]
      },
      {
       "output_type": "stream",
       "stream": "stdout",
       "text": [
        "\n"
       ]
      },
      {
       "output_type": "stream",
       "stream": "stdout",
       "text": [
        "                    age_of_oldest_child_in_school = household.aggregate((psrc_parcel.person.student<3) * (person.age <= 18) * person.age, function=maximum)"
       ]
      },
      {
       "output_type": "stream",
       "stream": "stdout",
       "text": [
        "\n"
       ]
      },
      {
       "output_type": "stream",
       "stream": "stdout",
       "text": [
        "                        (psrc_parcel.person.student<3)*(person.age<=18)*person.age"
       ]
      },
      {
       "output_type": "stream",
       "stream": "stdout",
       "text": [
        "\n"
       ]
      },
      {
       "output_type": "stream",
       "stream": "stdout",
       "text": [
        "                            student = numpy.logical_or(person.stype == 2, person.stype == 6)"
       ]
      },
      {
       "output_type": "stream",
       "stream": "stdout",
       "text": [
        "....0.0 sec"
       ]
      },
      {
       "output_type": "stream",
       "stream": "stdout",
       "text": [
        "\n"
       ]
      },
      {
       "output_type": "stream",
       "stream": "stdout",
       "text": [
        "                        (psrc_parcel.person.student<3)*(person.age<=18)*person.age"
       ]
      },
      {
       "output_type": "stream",
       "stream": "stdout",
       "text": [
        "\n"
       ]
      },
      {
       "output_type": "stream",
       "stream": "stdout",
       "text": [
        "                    age_of_oldest_child_in_school = household.aggregate((psrc_parcel.person.student<3) * (person.age <= 18) * person.age, function=maximum)"
       ]
      },
      {
       "output_type": "stream",
       "stream": "stdout",
       "text": [
        "\n"
       ]
      },
      {
       "output_type": "stream",
       "stream": "stdout",
       "text": [
        "                has_older_sibling_in_school = person.disaggregate(psrc_parcel.household.age_of_oldest_child_in_school) > person.age"
       ]
      },
      {
       "output_type": "stream",
       "stream": "stdout",
       "text": [
        "\n"
       ]
      },
      {
       "output_type": "stream",
       "stream": "stdout",
       "text": [
        "            sfilter = psrc_parcel.person.has_older_sibling_in_school * numpy.logical_and(person.is_in_school, numpy.logical_or(person.stype == 2, person.stype == 6))"
       ]
      },
      {
       "output_type": "stream",
       "stream": "stdout",
       "text": [
        "\n"
       ]
      },
      {
       "output_type": "stream",
       "stream": "stdout",
       "text": [
        "            person.school_type==3"
       ]
      },
      {
       "output_type": "stream",
       "stream": "stdout",
       "text": [
        "........................................0.0 sec"
       ]
      },
      {
       "output_type": "stream",
       "stream": "stdout",
       "text": [
        "\n"
       ]
      },
      {
       "output_type": "stream",
       "stream": "stdout",
       "text": [
        "            Estimating Home School Model (from psrc_parcel.models.home_school_model): started on Tue May 21 15:32:48 2013"
       ]
      },
      {
       "output_type": "stream",
       "stream": "stdout",
       "text": [
        "\n"
       ]
      },
      {
       "output_type": "stream",
       "stream": "stdout",
       "text": [
        "                older_sibl_home = psrc_parcel.person.has_older_sibling_in_home_school"
       ]
      },
      {
       "output_type": "stream",
       "stream": "stdout",
       "text": [
        "\n"
       ]
      },
      {
       "output_type": "stream",
       "stream": "stdout",
       "text": [
        "                    has_older_sibling_in_home_school = person.disaggregate(psrc_parcel.household.age_of_oldest_child_in_home_school) > person.age"
       ]
      },
      {
       "output_type": "stream",
       "stream": "stdout",
       "text": [
        "\n"
       ]
      },
      {
       "output_type": "stream",
       "stream": "stdout",
       "text": [
        "                        age_of_oldest_child_in_home_school = household.aggregate(person.home_school * (person.age <= 18) * person.age, function=maximum)"
       ]
      },
      {
       "output_type": "stream",
       "stream": "stdout",
       "text": [
        "\n"
       ]
      },
      {
       "output_type": "stream",
       "stream": "stdout",
       "text": [
        "                            person.home_school*(person.age<=18)*person.age"
       ]
      },
      {
       "output_type": "stream",
       "stream": "stdout",
       "text": [
        "....0.0 sec"
       ]
      },
      {
       "output_type": "stream",
       "stream": "stdout",
       "text": [
        "\n"
       ]
      },
      {
       "output_type": "stream",
       "stream": "stdout",
       "text": [
        "                        age_of_oldest_child_in_home_school = household.aggregate(person.home_school * (person.age <= 18) * person.age, function=maximum)"
       ]
      },
      {
       "output_type": "stream",
       "stream": "stdout",
       "text": [
        "\n"
       ]
      },
      {
       "output_type": "stream",
       "stream": "stdout",
       "text": [
        "                    has_older_sibling_in_home_school = person.disaggregate(psrc_parcel.household.age_of_oldest_child_in_home_school) > person.age"
       ]
      },
      {
       "output_type": "stream",
       "stream": "stdout",
       "text": [
        "\n"
       ]
      },
      {
       "output_type": "stream",
       "stream": "stdout",
       "text": [
        "                older_sibl_home = psrc_parcel.person.has_older_sibling_in_home_school"
       ]
      },
      {
       "output_type": "stream",
       "stream": "stdout",
       "text": [
        "\n"
       ]
      },
      {
       "output_type": "stream",
       "stream": "stdout",
       "text": [
        "                Choice set size: 2"
       ]
      },
      {
       "output_type": "stream",
       "stream": "stdout",
       "text": [
        "\n"
       ]
      },
      {
       "output_type": "stream",
       "stream": "stdout",
       "text": [
        "                submodel: -2"
       ]
      },
      {
       "output_type": "stream",
       "stream": "stdout",
       "text": [
        "\n"
       ]
      },
      {
       "output_type": "stream",
       "stream": "stdout",
       "text": [
        "                Convergence achieved."
       ]
      },
      {
       "output_type": "stream",
       "stream": "stdout",
       "text": [
        "\n"
       ]
      },
      {
       "output_type": "stream",
       "stream": "stdout",
       "text": [
        "                Akaike's Information Criterion (AIC):  54.7282183546"
       ]
      },
      {
       "output_type": "stream",
       "stream": "stdout",
       "text": [
        "\n"
       ]
      },
      {
       "output_type": "stream",
       "stream": "stdout",
       "text": [
        "                Bayesian Information Criterion (BIC):  63.3407689285"
       ]
      },
      {
       "output_type": "stream",
       "stream": "stdout",
       "text": [
        "\n"
       ]
      },
      {
       "output_type": "stream",
       "stream": "stdout",
       "text": [
        "                Number of Iterations:  8"
       ]
      },
      {
       "output_type": "stream",
       "stream": "stdout",
       "text": [
        "\n"
       ]
      },
      {
       "output_type": "stream",
       "stream": "stdout",
       "text": [
        "                ***********************************************"
       ]
      },
      {
       "output_type": "stream",
       "stream": "stdout",
       "text": [
        "\n"
       ]
      },
      {
       "output_type": "stream",
       "stream": "stdout",
       "text": [
        "                Log-likelihood is:            -25.3641091773"
       ]
      },
      {
       "output_type": "stream",
       "stream": "stdout",
       "text": [
        "\n"
       ]
      },
      {
       "output_type": "stream",
       "stream": "stdout",
       "text": [
        "                Null Log-likelihood is:       -379.844654947"
       ]
      },
      {
       "output_type": "stream",
       "stream": "stdout",
       "text": [
        "\n"
       ]
      },
      {
       "output_type": "stream",
       "stream": "stdout",
       "text": [
        "                Likelihood ratio index:       0.933225046484"
       ]
      },
      {
       "output_type": "stream",
       "stream": "stdout",
       "text": [
        "\n"
       ]
      },
      {
       "output_type": "stream",
       "stream": "stdout",
       "text": [
        "                Adj. likelihood ratio index:  0.927959736116"
       ]
      },
      {
       "output_type": "stream",
       "stream": "stdout",
       "text": [
        "\n"
       ]
      },
      {
       "output_type": "stream",
       "stream": "stdout",
       "text": [
        "                Number of observations:       548"
       ]
      },
      {
       "output_type": "stream",
       "stream": "stdout",
       "text": [
        "\n"
       ]
      },
      {
       "output_type": "stream",
       "stream": "stdout",
       "text": [
        "                Number of alternatives:       2"
       ]
      },
      {
       "output_type": "stream",
       "stream": "stdout",
       "text": [
        "\n"
       ]
      },
      {
       "output_type": "stream",
       "stream": "stdout",
       "text": [
        "                Suggested |t-value| >         2.51122983555"
       ]
      },
      {
       "output_type": "stream",
       "stream": "stdout",
       "text": [
        "\n"
       ]
      },
      {
       "output_type": "stream",
       "stream": "stdout",
       "text": [
        "                Convergence statistic is:     2.31957276215e-05"
       ]
      },
      {
       "output_type": "stream",
       "stream": "stdout",
       "text": [
        "\n"
       ]
      },
      {
       "output_type": "stream",
       "stream": "stdout",
       "text": [
        "                -----------------------------------------------"
       ]
      },
      {
       "output_type": "stream",
       "stream": "stdout",
       "text": [
        "\n"
       ]
      },
      {
       "output_type": "stream",
       "stream": "stdout",
       "text": [
        "                Coeff_names\testimate\tstd err\t\tt-values"
       ]
      },
      {
       "output_type": "stream",
       "stream": "stdout",
       "text": [
        "\n"
       ]
      },
      {
       "output_type": "stream",
       "stream": "stdout",
       "text": [
        "                  constant\t-5.15993\t 0.57901\t-8.91164"
       ]
      },
      {
       "output_type": "stream",
       "stream": "stdout",
       "text": [
        "\n"
       ]
      },
      {
       "output_type": "stream",
       "stream": "stdout",
       "text": [
        "                older_sibl_home\t 7.55783\t 0.93846\t 8.05343"
       ]
      },
      {
       "output_type": "stream",
       "stream": "stdout",
       "text": [
        "\n"
       ]
      },
      {
       "output_type": "stream",
       "stream": "stdout",
       "text": [
        "                ***********************************************"
       ]
      },
      {
       "output_type": "stream",
       "stream": "stdout",
       "text": [
        "\n"
       ]
      },
      {
       "output_type": "stream",
       "stream": "stdout",
       "text": [
        "            Estimating Home School Model (from psrc_parcel.models.home_school_model): completed...0.1 sec"
       ]
      },
      {
       "output_type": "stream",
       "stream": "stdout",
       "text": [
        "\n"
       ]
      },
      {
       "output_type": "stream",
       "stream": "stdout",
       "text": [
        "        Simulate year 2006: completed....................................0.5 sec"
       ]
      },
      {
       "output_type": "stream",
       "stream": "stdout",
       "text": [
        "\n"
       ]
      },
      {
       "output_type": "stream",
       "stream": "stdout",
       "text": [
        "        Closing log file: /Users/hana/workspace/data/psrc_parcel/base_year_data_school_estimation/year_2006_log.txt"
       ]
      },
      {
       "output_type": "stream",
       "stream": "stdout",
       "text": [
        "\n"
       ]
      },
      {
       "output_type": "stream",
       "stream": "stdout",
       "text": [
        "    Starting simulation for year 2006: completed.........................0.6 sec"
       ]
      },
      {
       "output_type": "stream",
       "stream": "stdout",
       "text": [
        "\n"
       ]
      },
      {
       "output_type": "stream",
       "stream": "stdout",
       "text": [
        "Start simulation run: completed..........................................0.6 sec"
       ]
      },
      {
       "output_type": "stream",
       "stream": "stdout",
       "text": [
        "\n"
       ]
      },
      {
       "output_type": "stream",
       "stream": "stdout",
       "text": [
        "Closing log file: /Users/hana/workspace/data/psrc_parcel/base_year_data_school_estimation/run_model_system.log"
       ]
      },
      {
       "output_type": "stream",
       "stream": "stdout",
       "text": [
        "\n"
       ]
      }
     ],
     "prompt_number": 2
    },
    {
     "cell_type": "heading",
     "level": 3,
     "metadata": {},
     "source": [
      "Public/Private school model"
     ]
    },
    {
     "cell_type": "heading",
     "level": 4,
     "metadata": {},
     "source": [
      "Model for oldest child:"
     ]
    },
    {
     "cell_type": "code",
     "collapsed": true,
     "input": [
      "%run ~/workspace/src/opus_core/tools/start_estimation.py -x /Users/hana/workspace/project_configs/psrc_parcel_school.xml -m public_private_school_for_oldest_child_model"
     ],
     "language": "python",
     "metadata": {},
     "outputs": [
      {
       "output_type": "stream",
       "stream": "stdout",
       "text": [
        "Loading XML configuration: /Users/hana/workspace/project_configs/psrc_parcel_school.xml"
       ]
      },
      {
       "output_type": "stream",
       "stream": "stdout",
       "text": [
        "\n"
       ]
      },
      {
       "output_type": "stream",
       "stream": "stdout",
       "text": [
        "Loading XML configuration: /Users/hana/workspace/project_configs/psrc_parcel_default.xml"
       ]
      },
      {
       "output_type": "stream",
       "stream": "stdout",
       "text": [
        "\n"
       ]
      },
      {
       "output_type": "stream",
       "stream": "stdout",
       "text": [
        "Loading XML configuration: /Users/hana/workspace/src/psrc_parcel/configs/psrc_parcel.xml"
       ]
      },
      {
       "output_type": "stream",
       "stream": "stdout",
       "text": [
        "\n"
       ]
      },
      {
       "output_type": "stream",
       "stream": "stdout",
       "text": [
        "Loading XML configuration: /Users/hana/workspace/src/urbansim_parcel/configs/urbansim_parcel.xml"
       ]
      },
      {
       "output_type": "stream",
       "stream": "stdout",
       "text": [
        "\n"
       ]
      },
      {
       "output_type": "stream",
       "stream": "stdout",
       "text": [
        "Loading XML configuration: /Users/hana/workspace/src/urbansim/configs/urbansim.xml"
       ]
      },
      {
       "output_type": "stream",
       "stream": "stdout",
       "text": [
        "\n"
       ]
      },
      {
       "output_type": "stream",
       "stream": "stdout",
       "text": [
        "Cache Directory set to: /Users/hana/workspace/data/psrc_parcel/base_year_data_school_estimation"
       ]
      },
      {
       "output_type": "stream",
       "stream": "stdout",
       "text": [
        "\n"
       ]
      },
      {
       "output_type": "stream",
       "stream": "stdout",
       "text": [
        "Start simulation run: started on Tue May 21 16:11:33 2013"
       ]
      },
      {
       "output_type": "stream",
       "stream": "stdout",
       "text": [
        "\n"
       ]
      },
      {
       "output_type": "stream",
       "stream": "stdout",
       "text": [
        "    random seed = 1"
       ]
      },
      {
       "output_type": "stream",
       "stream": "stdout",
       "text": [
        "\n"
       ]
      },
      {
       "output_type": "stream",
       "stream": "stdout",
       "text": [
        "    Starting simulation for year 2006: started on Tue May 21 16:11:33 2013"
       ]
      },
      {
       "output_type": "stream",
       "stream": "stdout",
       "text": [
        "\n"
       ]
      },
      {
       "output_type": "stream",
       "stream": "stdout",
       "text": [
        "        Closing log file: /Users/hana/workspace/data/psrc_parcel/base_year_data_school_estimation/run_model_system.log"
       ]
      },
      {
       "output_type": "stream",
       "stream": "stdout",
       "text": [
        "\n"
       ]
      },
      {
       "output_type": "stream",
       "stream": "stdout",
       "text": [
        "        Logging to file: /Users/hana/workspace/data/psrc_parcel/base_year_data_school_estimation/year_2006_log.txt"
       ]
      },
      {
       "output_type": "stream",
       "stream": "stdout",
       "text": [
        "\n"
       ]
      },
      {
       "output_type": "stream",
       "stream": "stdout",
       "text": [
        "        Simulate year 2006: started on Tue May 21 16:11:33 2013"
       ]
      },
      {
       "output_type": "stream",
       "stream": "stdout",
       "text": [
        "\n"
       ]
      },
      {
       "output_type": "stream",
       "stream": "stdout",
       "text": [
        "            sfilter = (psrc_parcel.person.has_older_sibling_in_school==0) * psrc_parcel.person.is_in_private_or_public_k12_school "
       ]
      },
      {
       "output_type": "stream",
       "stream": "stdout",
       "text": [
        "\n"
       ]
      },
      {
       "output_type": "stream",
       "stream": "stdout",
       "text": [
        "                has_older_sibling_in_school = person.disaggregate(psrc_parcel.household.age_of_oldest_child_in_school) > person.age"
       ]
      },
      {
       "output_type": "stream",
       "stream": "stdout",
       "text": [
        "\n"
       ]
      },
      {
       "output_type": "stream",
       "stream": "stdout",
       "text": [
        "                    age_of_oldest_child_in_school = household.aggregate((psrc_parcel.person.student<3) * (person.age <= 18) * person.age, function=maximum)"
       ]
      },
      {
       "output_type": "stream",
       "stream": "stdout",
       "text": [
        "\n"
       ]
      },
      {
       "output_type": "stream",
       "stream": "stdout",
       "text": [
        "                        (psrc_parcel.person.student<3)*(person.age<=18)*person.age"
       ]
      },
      {
       "output_type": "stream",
       "stream": "stdout",
       "text": [
        "\n"
       ]
      },
      {
       "output_type": "stream",
       "stream": "stdout",
       "text": [
        "                            student = numpy.logical_or(person.stype == 2, person.stype == 6)"
       ]
      },
      {
       "output_type": "stream",
       "stream": "stdout",
       "text": [
        "....0.0 sec"
       ]
      },
      {
       "output_type": "stream",
       "stream": "stdout",
       "text": [
        "\n"
       ]
      },
      {
       "output_type": "stream",
       "stream": "stdout",
       "text": [
        "                        (psrc_parcel.person.student<3)*(person.age<=18)*person.age"
       ]
      },
      {
       "output_type": "stream",
       "stream": "stdout",
       "text": [
        "\n"
       ]
      },
      {
       "output_type": "stream",
       "stream": "stdout",
       "text": [
        "                    age_of_oldest_child_in_school = household.aggregate((psrc_parcel.person.student<3) * (person.age <= 18) * person.age, function=maximum)"
       ]
      },
      {
       "output_type": "stream",
       "stream": "stdout",
       "text": [
        "\n"
       ]
      },
      {
       "output_type": "stream",
       "stream": "stdout",
       "text": [
        "                has_older_sibling_in_school = person.disaggregate(psrc_parcel.household.age_of_oldest_child_in_school) > person.age"
       ]
      },
      {
       "output_type": "stream",
       "stream": "stdout",
       "text": [
        "\n"
       ]
      },
      {
       "output_type": "stream",
       "stream": "stdout",
       "text": [
        "                is_in_private_or_public_k12_school = numpy.logical_and(person.stype == 2, numpy.logical_or(psrc_parcel.person.is_in_private_school, psrc_parcel.person.is_in_public_school))"
       ]
      },
      {
       "output_type": "stream",
       "stream": "stdout",
       "text": [
        "\n"
       ]
      },
      {
       "output_type": "stream",
       "stream": "stdout",
       "text": [
        "                    is_in_private_school = numpy.logical_and(person.is_in_school, person.school_type == 2)"
       ]
      },
      {
       "output_type": "stream",
       "stream": "stdout",
       "text": [
        "....0.0 sec"
       ]
      },
      {
       "output_type": "stream",
       "stream": "stdout",
       "text": [
        "\n"
       ]
      },
      {
       "output_type": "stream",
       "stream": "stdout",
       "text": [
        "                    is_in_public_school = numpy.logical_and(person.is_in_school, person.school_type == 1)"
       ]
      },
      {
       "output_type": "stream",
       "stream": "stdout",
       "text": [
        "....0.0 sec"
       ]
      },
      {
       "output_type": "stream",
       "stream": "stdout",
       "text": [
        "\n"
       ]
      },
      {
       "output_type": "stream",
       "stream": "stdout",
       "text": [
        "                is_in_private_or_public_k12_school = numpy.logical_and(person.stype == 2, numpy.logical_or(psrc_parcel.person.is_in_private_school, psrc_parcel.person.is_in_public_school))"
       ]
      },
      {
       "output_type": "stream",
       "stream": "stdout",
       "text": [
        "\n"
       ]
      },
      {
       "output_type": "stream",
       "stream": "stdout",
       "text": [
        "            sfilter = (psrc_parcel.person.has_older_sibling_in_school==0) * psrc_parcel.person.is_in_private_or_public_k12_school "
       ]
      },
      {
       "output_type": "stream",
       "stream": "stdout",
       "text": [
        "\n"
       ]
      },
      {
       "output_type": "stream",
       "stream": "stdout",
       "text": [
        "            Estimating Choice Model (from psrc_parcel.models.school_type_choice_model): started on Tue May 21 16:11:33 2013"
       ]
      },
      {
       "output_type": "stream",
       "stream": "stdout",
       "text": [
        "\n"
       ]
      },
      {
       "output_type": "stream",
       "stream": "stdout",
       "text": [
        "                schooldistr_readscore = person.disaggregate(psrc_parcel.parcel.average_school_district_reading_index, intermediates=[building, household])"
       ]
      },
      {
       "output_type": "stream",
       "stream": "stdout",
       "text": [
        "\n"
       ]
      },
      {
       "output_type": "stream",
       "stream": "stdout",
       "text": [
        "                    household.disaggregate(psrc_parcel.parcel.average_school_district_reading_index,intermediates=[building])"
       ]
      },
      {
       "output_type": "stream",
       "stream": "stdout",
       "text": [
        "\n"
       ]
      },
      {
       "output_type": "stream",
       "stream": "stdout",
       "text": [
        "                        building.disaggregate(psrc_parcel.parcel.average_school_district_reading_index)"
       ]
      },
      {
       "output_type": "stream",
       "stream": "stdout",
       "text": [
        "\n"
       ]
      },
      {
       "output_type": "stream",
       "stream": "stdout",
       "text": [
        "                            psrc_parcel.parcel.average_school_district_SSS"
       ]
      },
      {
       "output_type": "stream",
       "stream": "stdout",
       "text": [
        "....0.6 sec"
       ]
      },
      {
       "output_type": "stream",
       "stream": "stdout",
       "text": [
        "\n"
       ]
      },
      {
       "output_type": "stream",
       "stream": "stdout",
       "text": [
        "                        building.disaggregate(psrc_parcel.parcel.average_school_district_reading_index)"
       ]
      },
      {
       "output_type": "stream",
       "stream": "stdout",
       "text": [
        "\n"
       ]
      },
      {
       "output_type": "stream",
       "stream": "stdout",
       "text": [
        "                    household.disaggregate(psrc_parcel.parcel.average_school_district_reading_index,intermediates=[building])"
       ]
      },
      {
       "output_type": "stream",
       "stream": "stdout",
       "text": [
        "\n"
       ]
      },
      {
       "output_type": "stream",
       "stream": "stdout",
       "text": [
        "                schooldistr_readscore = person.disaggregate(psrc_parcel.parcel.average_school_district_reading_index, intermediates=[building, household])"
       ]
      },
      {
       "output_type": "stream",
       "stream": "stdout",
       "text": [
        "\n"
       ]
      },
      {
       "output_type": "stream",
       "stream": "stdout",
       "text": [
        "                lhhincome_imputed = ln(person.disaggregate(urbansim_parcel.household.income_imputed))"
       ]
      },
      {
       "output_type": "stream",
       "stream": "stdout",
       "text": [
        "\n"
       ]
      },
      {
       "output_type": "stream",
       "stream": "stdout",
       "text": [
        "                    income_imputed = household.income*(household.income > 0) + household.disaggregate(urbansim_parcel.zone.average_household_income)*(household.income <= 0)"
       ]
      },
      {
       "output_type": "stream",
       "stream": "stdout",
       "text": [
        "\n"
       ]
      },
      {
       "output_type": "stream",
       "stream": "stdout",
       "text": [
        "                        urbansim_parcel.zone.average_household_income"
       ]
      },
      {
       "output_type": "stream",
       "stream": "stdout",
       "text": [
        "\n"
       ]
      },
      {
       "output_type": "stream",
       "stream": "stdout",
       "text": [
        "                            zone_id = household.disaggregate(urbansim_parcel.building.zone_id)"
       ]
      },
      {
       "output_type": "stream",
       "stream": "stdout",
       "text": [
        "\n"
       ]
      },
      {
       "output_type": "stream",
       "stream": "stdout",
       "text": [
        "                                zone_id = building.disaggregate(parcel.zone_id)"
       ]
      },
      {
       "output_type": "stream",
       "stream": "stdout",
       "text": [
        "....0.3 sec"
       ]
      },
      {
       "output_type": "stream",
       "stream": "stdout",
       "text": [
        "\n"
       ]
      },
      {
       "output_type": "stream",
       "stream": "stdout",
       "text": [
        "                            zone_id = household.disaggregate(urbansim_parcel.building.zone_id)"
       ]
      },
      {
       "output_type": "stream",
       "stream": "stdout",
       "text": [
        "\n"
       ]
      },
      {
       "output_type": "stream",
       "stream": "stdout",
       "text": [
        "                        urbansim_parcel.zone.average_household_income"
       ]
      },
      {
       "output_type": "stream",
       "stream": "stdout",
       "text": [
        "\n"
       ]
      },
      {
       "output_type": "stream",
       "stream": "stdout",
       "text": [
        "                    income_imputed = household.income*(household.income > 0) + household.disaggregate(urbansim_parcel.zone.average_household_income)*(household.income <= 0)"
       ]
      },
      {
       "output_type": "stream",
       "stream": "stdout",
       "text": [
        "\n"
       ]
      },
      {
       "output_type": "stream",
       "stream": "stdout",
       "text": [
        "                lhhincome_imputed = ln(person.disaggregate(urbansim_parcel.household.income_imputed))"
       ]
      },
      {
       "output_type": "stream",
       "stream": "stdout",
       "text": [
        "\n"
       ]
      },
      {
       "output_type": "stream",
       "stream": "stdout",
       "text": [
        "                timetocbd = person.disaggregate(urbansim_parcel.parcel.travel_time_to_cbd, intermediates=[building, household])"
       ]
      },
      {
       "output_type": "stream",
       "stream": "stdout",
       "text": [
        "\n"
       ]
      },
      {
       "output_type": "stream",
       "stream": "stdout",
       "text": [
        "                    household.disaggregate(urbansim_parcel.parcel.travel_time_to_cbd,intermediates=[building])"
       ]
      },
      {
       "output_type": "stream",
       "stream": "stdout",
       "text": [
        "\n"
       ]
      },
      {
       "output_type": "stream",
       "stream": "stdout",
       "text": [
        "                        building.disaggregate(urbansim_parcel.parcel.travel_time_to_cbd)"
       ]
      },
      {
       "output_type": "stream",
       "stream": "stdout",
       "text": [
        "\n"
       ]
      },
      {
       "output_type": "stream",
       "stream": "stdout",
       "text": [
        "                            travel_time_to_cbd = parcel.disaggregate(urbansim.gridcell.travel_time_to_cbd)"
       ]
      },
      {
       "output_type": "stream",
       "stream": "stdout",
       "text": [
        "\n"
       ]
      },
      {
       "output_type": "stream",
       "stream": "stdout",
       "text": [
        "                                urbansim.gridcell.travel_time_to_cbd"
       ]
      },
      {
       "output_type": "stream",
       "stream": "stdout",
       "text": [
        ".....0.3 sec"
       ]
      },
      {
       "output_type": "stream",
       "stream": "stdout",
       "text": [
        "\n"
       ]
      },
      {
       "output_type": "stream",
       "stream": "stdout",
       "text": [
        "                            travel_time_to_cbd = parcel.disaggregate(urbansim.gridcell.travel_time_to_cbd)"
       ]
      },
      {
       "output_type": "stream",
       "stream": "stdout",
       "text": [
        "\n"
       ]
      },
      {
       "output_type": "stream",
       "stream": "stdout",
       "text": [
        "                        building.disaggregate(urbansim_parcel.parcel.travel_time_to_cbd)"
       ]
      },
      {
       "output_type": "stream",
       "stream": "stdout",
       "text": [
        "\n"
       ]
      },
      {
       "output_type": "stream",
       "stream": "stdout",
       "text": [
        "                    household.disaggregate(urbansim_parcel.parcel.travel_time_to_cbd,intermediates=[building])"
       ]
      },
      {
       "output_type": "stream",
       "stream": "stdout",
       "text": [
        "\n"
       ]
      },
      {
       "output_type": "stream",
       "stream": "stdout",
       "text": [
        "                timetocbd = person.disaggregate(urbansim_parcel.parcel.travel_time_to_cbd, intermediates=[building, household])"
       ]
      },
      {
       "output_type": "stream",
       "stream": "stdout",
       "text": [
        "\n"
       ]
      },
      {
       "output_type": "stream",
       "stream": "stdout",
       "text": [
        "                npriv_s4000 = person.disaggregate(psrc_parcel.parcel.number_of_private_schools_within_4000_radius, intermediates=[building, household])"
       ]
      },
      {
       "output_type": "stream",
       "stream": "stdout",
       "text": [
        "\n"
       ]
      },
      {
       "output_type": "stream",
       "stream": "stdout",
       "text": [
        "                    household.disaggregate(psrc_parcel.parcel.number_of_private_schools_within_4000_radius,intermediates=[building])"
       ]
      },
      {
       "output_type": "stream",
       "stream": "stdout",
       "text": [
        "\n"
       ]
      },
      {
       "output_type": "stream",
       "stream": "stdout",
       "text": [
        "                        building.disaggregate(psrc_parcel.parcel.number_of_private_schools_within_4000_radius)"
       ]
      },
      {
       "output_type": "stream",
       "stream": "stdout",
       "text": [
        "\n"
       ]
      },
      {
       "output_type": "stream",
       "stream": "stdout",
       "text": [
        "                            psrc_parcel.parcel.SSS_within_DDD_radius"
       ]
      },
      {
       "output_type": "stream",
       "stream": "stdout",
       "text": [
        "\n"
       ]
      },
      {
       "output_type": "stream",
       "stream": "stdout",
       "text": [
        "                                grid_id=household.disaggregate(parcel.grid_id, intermediates=[building])"
       ]
      },
      {
       "output_type": "stream",
       "stream": "stdout",
       "text": [
        "\n"
       ]
      },
      {
       "output_type": "stream",
       "stream": "stdout",
       "text": [
        "                                    building.disaggregate(parcel.grid_id)"
       ]
      },
      {
       "output_type": "stream",
       "stream": "stdout",
       "text": [
        "....0.1 sec"
       ]
      },
      {
       "output_type": "stream",
       "stream": "stdout",
       "text": [
        "\n"
       ]
      },
      {
       "output_type": "stream",
       "stream": "stdout",
       "text": [
        "                                grid_id=household.disaggregate(parcel.grid_id, intermediates=[building])"
       ]
      },
      {
       "output_type": "stream",
       "stream": "stdout",
       "text": [
        "\n"
       ]
      },
      {
       "output_type": "stream",
       "stream": "stdout",
       "text": [
        "                                grid_id=job.disaggregate(parcel.grid_id, intermediates=[building])"
       ]
      },
      {
       "output_type": "stream",
       "stream": "stdout",
       "text": [
        "....39.6 sec"
       ]
      },
      {
       "output_type": "stream",
       "stream": "stdout",
       "text": [
        "\n"
       ]
      },
      {
       "output_type": "stream",
       "stream": "stdout",
       "text": [
        "                                psrc_parcel.gridcell.SSS_within_DDD_radius"
       ]
      },
      {
       "output_type": "stream",
       "stream": "stdout",
       "text": [
        "\n"
       ]
      },
      {
       "output_type": "stream",
       "stream": "stdout",
       "text": [
        "                                    gridcell.aggregate(psrc_parcel.parcel.number_of_private_schools)"
       ]
      },
      {
       "output_type": "stream",
       "stream": "stdout",
       "text": [
        "\n"
       ]
      },
      {
       "output_type": "stream",
       "stream": "stdout",
       "text": [
        "                                        number_of_private_schools = parcel.aggregate(school.public==0)"
       ]
      },
      {
       "output_type": "stream",
       "stream": "stdout",
       "text": [
        "\n"
       ]
      },
      {
       "output_type": "stream",
       "stream": "stdout",
       "text": [
        "                                            school.public==0"
       ]
      },
      {
       "output_type": "stream",
       "stream": "stdout",
       "text": [
        ".............0.1 sec"
       ]
      },
      {
       "output_type": "stream",
       "stream": "stdout",
       "text": [
        "\n"
       ]
      },
      {
       "output_type": "stream",
       "stream": "stdout",
       "text": [
        "                                        number_of_private_schools = parcel.aggregate(school.public==0)"
       ]
      },
      {
       "output_type": "stream",
       "stream": "stdout",
       "text": [
        "\n"
       ]
      },
      {
       "output_type": "stream",
       "stream": "stdout",
       "text": [
        "                                    gridcell.aggregate(psrc_parcel.parcel.number_of_private_schools)"
       ]
      },
      {
       "output_type": "stream",
       "stream": "stdout",
       "text": [
        "\n"
       ]
      },
      {
       "output_type": "stream",
       "stream": "stdout",
       "text": [
        "                                psrc_parcel.gridcell.SSS_within_DDD_radius"
       ]
      },
      {
       "output_type": "stream",
       "stream": "stdout",
       "text": [
        "\n"
       ]
      },
      {
       "output_type": "stream",
       "stream": "stdout",
       "text": [
        "                            psrc_parcel.parcel.SSS_within_DDD_radius"
       ]
      },
      {
       "output_type": "stream",
       "stream": "stdout",
       "text": [
        "\n"
       ]
      },
      {
       "output_type": "stream",
       "stream": "stdout",
       "text": [
        "                        building.disaggregate(psrc_parcel.parcel.number_of_private_schools_within_4000_radius)"
       ]
      },
      {
       "output_type": "stream",
       "stream": "stdout",
       "text": [
        "\n"
       ]
      },
      {
       "output_type": "stream",
       "stream": "stdout",
       "text": [
        "                    household.disaggregate(psrc_parcel.parcel.number_of_private_schools_within_4000_radius,intermediates=[building])"
       ]
      },
      {
       "output_type": "stream",
       "stream": "stdout",
       "text": [
        "\n"
       ]
      },
      {
       "output_type": "stream",
       "stream": "stdout",
       "text": [
        "                npriv_s4000 = person.disaggregate(psrc_parcel.parcel.number_of_private_schools_within_4000_radius, intermediates=[building, household])"
       ]
      },
      {
       "output_type": "stream",
       "stream": "stdout",
       "text": [
        "\n"
       ]
      },
      {
       "output_type": "stream",
       "stream": "stdout",
       "text": [
        "                Choice set size: 2"
       ]
      },
      {
       "output_type": "stream",
       "stream": "stdout",
       "text": [
        "\n"
       ]
      },
      {
       "output_type": "stream",
       "stream": "stdout",
       "text": [
        "                submodel: -2"
       ]
      },
      {
       "output_type": "stream",
       "stream": "stdout",
       "text": [
        "\n"
       ]
      },
      {
       "output_type": "stream",
       "stream": "stdout",
       "text": [
        "                Convergence achieved."
       ]
      },
      {
       "output_type": "stream",
       "stream": "stdout",
       "text": [
        "\n"
       ]
      },
      {
       "output_type": "stream",
       "stream": "stdout",
       "text": [
        "                Akaike's Information Criterion (AIC):  671.758893756"
       ]
      },
      {
       "output_type": "stream",
       "stream": "stdout",
       "text": [
        "\n"
       ]
      },
      {
       "output_type": "stream",
       "stream": "stdout",
       "text": [
        "                Bayesian Information Criterion (BIC):  695.720615894"
       ]
      },
      {
       "output_type": "stream",
       "stream": "stdout",
       "text": [
        "\n"
       ]
      },
      {
       "output_type": "stream",
       "stream": "stdout",
       "text": [
        "                Number of Iterations:  6"
       ]
      },
      {
       "output_type": "stream",
       "stream": "stdout",
       "text": [
        "\n"
       ]
      },
      {
       "output_type": "stream",
       "stream": "stdout",
       "text": [
        "                ***********************************************"
       ]
      },
      {
       "output_type": "stream",
       "stream": "stdout",
       "text": [
        "\n"
       ]
      },
      {
       "output_type": "stream",
       "stream": "stdout",
       "text": [
        "                Log-likelihood is:            -330.879446878"
       ]
      },
      {
       "output_type": "stream",
       "stream": "stdout",
       "text": [
        "\n"
       ]
      },
      {
       "output_type": "stream",
       "stream": "stdout",
       "text": [
        "                Null Log-likelihood is:       -617.594137879"
       ]
      },
      {
       "output_type": "stream",
       "stream": "stdout",
       "text": [
        "\n"
       ]
      },
      {
       "output_type": "stream",
       "stream": "stdout",
       "text": [
        "                Likelihood ratio index:       0.464244514991"
       ]
      },
      {
       "output_type": "stream",
       "stream": "stdout",
       "text": [
        "\n"
       ]
      },
      {
       "output_type": "stream",
       "stream": "stdout",
       "text": [
        "                Adj. likelihood ratio index:  0.456148583224"
       ]
      },
      {
       "output_type": "stream",
       "stream": "stdout",
       "text": [
        "\n"
       ]
      },
      {
       "output_type": "stream",
       "stream": "stdout",
       "text": [
        "                Number of observations:       891"
       ]
      },
      {
       "output_type": "stream",
       "stream": "stdout",
       "text": [
        "\n"
       ]
      },
      {
       "output_type": "stream",
       "stream": "stdout",
       "text": [
        "                Number of alternatives:       2"
       ]
      },
      {
       "output_type": "stream",
       "stream": "stdout",
       "text": [
        "\n"
       ]
      },
      {
       "output_type": "stream",
       "stream": "stdout",
       "text": [
        "                Suggested |t-value| >         2.60621265968"
       ]
      },
      {
       "output_type": "stream",
       "stream": "stdout",
       "text": [
        "\n"
       ]
      },
      {
       "output_type": "stream",
       "stream": "stdout",
       "text": [
        "                Convergence statistic is:     0.000176069318176"
       ]
      },
      {
       "output_type": "stream",
       "stream": "stdout",
       "text": [
        "\n"
       ]
      },
      {
       "output_type": "stream",
       "stream": "stdout",
       "text": [
        "                -----------------------------------------------"
       ]
      },
      {
       "output_type": "stream",
       "stream": "stdout",
       "text": [
        "\n"
       ]
      },
      {
       "output_type": "stream",
       "stream": "stdout",
       "text": [
        "                Coeff_names\testimate\tstd err\t\tt-values"
       ]
      },
      {
       "output_type": "stream",
       "stream": "stdout",
       "text": [
        "\n"
       ]
      },
      {
       "output_type": "stream",
       "stream": "stdout",
       "text": [
        "                  constant\t-2.32991\t 2.80322\t-0.831153"
       ]
      },
      {
       "output_type": "stream",
       "stream": "stdout",
       "text": [
        "\n"
       ]
      },
      {
       "output_type": "stream",
       "stream": "stdout",
       "text": [
        "                schooldistr_readscore\t-2.19017\t0.697371\t-3.14061"
       ]
      },
      {
       "output_type": "stream",
       "stream": "stdout",
       "text": [
        "\n"
       ]
      },
      {
       "output_type": "stream",
       "stream": "stdout",
       "text": [
        "                 lhhincome\t 0.67326\t0.190594\t 3.53242"
       ]
      },
      {
       "output_type": "stream",
       "stream": "stdout",
       "text": [
        "\n"
       ]
      },
      {
       "output_type": "stream",
       "stream": "stdout",
       "text": [
        "                 timetocbd\t-0.0202213\t0.00710578\t-2.84576"
       ]
      },
      {
       "output_type": "stream",
       "stream": "stdout",
       "text": [
        "\n"
       ]
      },
      {
       "output_type": "stream",
       "stream": "stdout",
       "text": [
        "                npriv_s4000\t0.0399043\t0.0211394\t 1.88768"
       ]
      },
      {
       "output_type": "stream",
       "stream": "stdout",
       "text": [
        "\n"
       ]
      },
      {
       "output_type": "stream",
       "stream": "stdout",
       "text": [
        "                ***********************************************"
       ]
      },
      {
       "output_type": "stream",
       "stream": "stdout",
       "text": [
        "\n"
       ]
      },
      {
       "output_type": "stream",
       "stream": "stdout",
       "text": [
        "            Estimating Choice Model (from psrc_parcel.models.school_type_choice_model): completed...53.2 sec"
       ]
      },
      {
       "output_type": "stream",
       "stream": "stdout",
       "text": [
        "\n"
       ]
      },
      {
       "output_type": "stream",
       "stream": "stdout",
       "text": [
        "        Simulate year 2006: completed...................................53.6 sec"
       ]
      },
      {
       "output_type": "stream",
       "stream": "stdout",
       "text": [
        "\n"
       ]
      },
      {
       "output_type": "stream",
       "stream": "stdout",
       "text": [
        "        Closing log file: /Users/hana/workspace/data/psrc_parcel/base_year_data_school_estimation/year_2006_log.txt"
       ]
      },
      {
       "output_type": "stream",
       "stream": "stdout",
       "text": [
        "\n"
       ]
      },
      {
       "output_type": "stream",
       "stream": "stdout",
       "text": [
        "    Starting simulation for year 2006: completed........................53.8 sec"
       ]
      },
      {
       "output_type": "stream",
       "stream": "stdout",
       "text": [
        "\n"
       ]
      },
      {
       "output_type": "stream",
       "stream": "stdout",
       "text": [
        "Start simulation run: completed.........................................53.8 sec"
       ]
      },
      {
       "output_type": "stream",
       "stream": "stdout",
       "text": [
        "\n"
       ]
      },
      {
       "output_type": "stream",
       "stream": "stdout",
       "text": [
        "Closing log file: /Users/hana/workspace/data/psrc_parcel/base_year_data_school_estimation/run_model_system.log"
       ]
      },
      {
       "output_type": "stream",
       "stream": "stdout",
       "text": [
        "\n"
       ]
      }
     ],
     "prompt_number": 3
    },
    {
     "cell_type": "heading",
     "level": 4,
     "metadata": {},
     "source": [
      "Model for younger siblings"
     ]
    },
    {
     "cell_type": "code",
     "collapsed": true,
     "input": [
      "%run ~/workspace/src/opus_core/tools/start_estimation.py -x /Users/hana/workspace/project_configs/psrc_parcel_school.xml -m public_private_school_for_younger_children_model"
     ],
     "language": "python",
     "metadata": {},
     "outputs": [
      {
       "output_type": "stream",
       "stream": "stdout",
       "text": [
        "Loading XML configuration: /Users/hana/workspace/project_configs/psrc_parcel_school.xml"
       ]
      },
      {
       "output_type": "stream",
       "stream": "stdout",
       "text": [
        "\n"
       ]
      },
      {
       "output_type": "stream",
       "stream": "stdout",
       "text": [
        "Loading XML configuration: /Users/hana/workspace/project_configs/psrc_parcel_default.xml"
       ]
      },
      {
       "output_type": "stream",
       "stream": "stdout",
       "text": [
        "\n"
       ]
      },
      {
       "output_type": "stream",
       "stream": "stdout",
       "text": [
        "Loading XML configuration: /Users/hana/workspace/src/psrc_parcel/configs/psrc_parcel.xml"
       ]
      },
      {
       "output_type": "stream",
       "stream": "stdout",
       "text": [
        "\n"
       ]
      },
      {
       "output_type": "stream",
       "stream": "stdout",
       "text": [
        "Loading XML configuration: /Users/hana/workspace/src/urbansim_parcel/configs/urbansim_parcel.xml"
       ]
      },
      {
       "output_type": "stream",
       "stream": "stdout",
       "text": [
        "\n"
       ]
      },
      {
       "output_type": "stream",
       "stream": "stdout",
       "text": [
        "Loading XML configuration: /Users/hana/workspace/src/urbansim/configs/urbansim.xml"
       ]
      },
      {
       "output_type": "stream",
       "stream": "stdout",
       "text": [
        "\n"
       ]
      },
      {
       "output_type": "stream",
       "stream": "stdout",
       "text": [
        "Cache Directory set to: /Users/hana/workspace/data/psrc_parcel/base_year_data_school_estimation"
       ]
      },
      {
       "output_type": "stream",
       "stream": "stdout",
       "text": [
        "\n"
       ]
      },
      {
       "output_type": "stream",
       "stream": "stdout",
       "text": [
        "Start simulation run: started on Tue May 21 16:19:02 2013"
       ]
      },
      {
       "output_type": "stream",
       "stream": "stdout",
       "text": [
        "\n"
       ]
      },
      {
       "output_type": "stream",
       "stream": "stdout",
       "text": [
        "    random seed = 1"
       ]
      },
      {
       "output_type": "stream",
       "stream": "stdout",
       "text": [
        "\n"
       ]
      },
      {
       "output_type": "stream",
       "stream": "stdout",
       "text": [
        "    Starting simulation for year 2006: started on Tue May 21 16:19:02 2013"
       ]
      },
      {
       "output_type": "stream",
       "stream": "stdout",
       "text": [
        "\n"
       ]
      },
      {
       "output_type": "stream",
       "stream": "stdout",
       "text": [
        "        Closing log file: /Users/hana/workspace/data/psrc_parcel/base_year_data_school_estimation/run_model_system.log"
       ]
      },
      {
       "output_type": "stream",
       "stream": "stdout",
       "text": [
        "\n"
       ]
      },
      {
       "output_type": "stream",
       "stream": "stdout",
       "text": [
        "        Logging to file: /Users/hana/workspace/data/psrc_parcel/base_year_data_school_estimation/year_2006_log.txt"
       ]
      },
      {
       "output_type": "stream",
       "stream": "stdout",
       "text": [
        "\n"
       ]
      },
      {
       "output_type": "stream",
       "stream": "stdout",
       "text": [
        "        Simulate year 2006: started on Tue May 21 16:19:02 2013"
       ]
      },
      {
       "output_type": "stream",
       "stream": "stdout",
       "text": [
        "\n"
       ]
      },
      {
       "output_type": "stream",
       "stream": "stdout",
       "text": [
        "            sfilter = psrc_parcel.person.has_older_sibling_in_school * psrc_parcel.person.is_in_private_or_public_k12_school "
       ]
      },
      {
       "output_type": "stream",
       "stream": "stdout",
       "text": [
        "\n"
       ]
      },
      {
       "output_type": "stream",
       "stream": "stdout",
       "text": [
        "                has_older_sibling_in_school = person.disaggregate(psrc_parcel.household.age_of_oldest_child_in_school) > person.age"
       ]
      },
      {
       "output_type": "stream",
       "stream": "stdout",
       "text": [
        "\n"
       ]
      },
      {
       "output_type": "stream",
       "stream": "stdout",
       "text": [
        "                    age_of_oldest_child_in_school = household.aggregate((psrc_parcel.person.student<3) * (person.age <= 18) * person.age, function=maximum)"
       ]
      },
      {
       "output_type": "stream",
       "stream": "stdout",
       "text": [
        "\n"
       ]
      },
      {
       "output_type": "stream",
       "stream": "stdout",
       "text": [
        "                        (psrc_parcel.person.student<3)*(person.age<=18)*person.age"
       ]
      },
      {
       "output_type": "stream",
       "stream": "stdout",
       "text": [
        "\n"
       ]
      },
      {
       "output_type": "stream",
       "stream": "stdout",
       "text": [
        "                            student = numpy.logical_or(person.stype == 2, person.stype == 6)"
       ]
      },
      {
       "output_type": "stream",
       "stream": "stdout",
       "text": [
        "....0.1 sec"
       ]
      },
      {
       "output_type": "stream",
       "stream": "stdout",
       "text": [
        "\n"
       ]
      },
      {
       "output_type": "stream",
       "stream": "stdout",
       "text": [
        "                        (psrc_parcel.person.student<3)*(person.age<=18)*person.age"
       ]
      },
      {
       "output_type": "stream",
       "stream": "stdout",
       "text": [
        "\n"
       ]
      },
      {
       "output_type": "stream",
       "stream": "stdout",
       "text": [
        "                    age_of_oldest_child_in_school = household.aggregate((psrc_parcel.person.student<3) * (person.age <= 18) * person.age, function=maximum)"
       ]
      },
      {
       "output_type": "stream",
       "stream": "stdout",
       "text": [
        "\n"
       ]
      },
      {
       "output_type": "stream",
       "stream": "stdout",
       "text": [
        "                has_older_sibling_in_school = person.disaggregate(psrc_parcel.household.age_of_oldest_child_in_school) > person.age"
       ]
      },
      {
       "output_type": "stream",
       "stream": "stdout",
       "text": [
        "\n"
       ]
      },
      {
       "output_type": "stream",
       "stream": "stdout",
       "text": [
        "                is_in_private_or_public_k12_school = numpy.logical_and(person.stype == 2, numpy.logical_or(psrc_parcel.person.is_in_private_school, psrc_parcel.person.is_in_public_school))"
       ]
      },
      {
       "output_type": "stream",
       "stream": "stdout",
       "text": [
        "\n"
       ]
      },
      {
       "output_type": "stream",
       "stream": "stdout",
       "text": [
        "                    is_in_private_school = numpy.logical_and(person.is_in_school, person.school_type == 2)"
       ]
      },
      {
       "output_type": "stream",
       "stream": "stdout",
       "text": [
        "....0.1 sec"
       ]
      },
      {
       "output_type": "stream",
       "stream": "stdout",
       "text": [
        "\n"
       ]
      },
      {
       "output_type": "stream",
       "stream": "stdout",
       "text": [
        "                    is_in_public_school = numpy.logical_and(person.is_in_school, person.school_type == 1)"
       ]
      },
      {
       "output_type": "stream",
       "stream": "stdout",
       "text": [
        "....0.0 sec"
       ]
      },
      {
       "output_type": "stream",
       "stream": "stdout",
       "text": [
        "\n"
       ]
      },
      {
       "output_type": "stream",
       "stream": "stdout",
       "text": [
        "                is_in_private_or_public_k12_school = numpy.logical_and(person.stype == 2, numpy.logical_or(psrc_parcel.person.is_in_private_school, psrc_parcel.person.is_in_public_school))"
       ]
      },
      {
       "output_type": "stream",
       "stream": "stdout",
       "text": [
        "\n"
       ]
      },
      {
       "output_type": "stream",
       "stream": "stdout",
       "text": [
        "            sfilter = psrc_parcel.person.has_older_sibling_in_school * psrc_parcel.person.is_in_private_or_public_k12_school "
       ]
      },
      {
       "output_type": "stream",
       "stream": "stdout",
       "text": [
        "\n"
       ]
      },
      {
       "output_type": "stream",
       "stream": "stdout",
       "text": [
        "            Estimating Choice Model (from psrc_parcel.models.school_type_choice_model): started on Tue May 21 16:19:06 2013"
       ]
      },
      {
       "output_type": "stream",
       "stream": "stdout",
       "text": [
        "\n"
       ]
      },
      {
       "output_type": "stream",
       "stream": "stdout",
       "text": [
        "                older_sibl_priv = psrc_parcel.person.has_older_sibling_in_private_school"
       ]
      },
      {
       "output_type": "stream",
       "stream": "stdout",
       "text": [
        "\n"
       ]
      },
      {
       "output_type": "stream",
       "stream": "stdout",
       "text": [
        "                    has_older_sibling_in_private_school = person.disaggregate(psrc_parcel.household.age_of_oldest_child_in_private_school) > person.age"
       ]
      },
      {
       "output_type": "stream",
       "stream": "stdout",
       "text": [
        "\n"
       ]
      },
      {
       "output_type": "stream",
       "stream": "stdout",
       "text": [
        "                        age_of_oldest_child_in_private_school = household.aggregate(psrc_parcel.person.is_in_private_k12_school * person.age, function=maximum)"
       ]
      },
      {
       "output_type": "stream",
       "stream": "stdout",
       "text": [
        "\n"
       ]
      },
      {
       "output_type": "stream",
       "stream": "stdout",
       "text": [
        "                            psrc_parcel.person.is_in_private_k12_school*person.age"
       ]
      },
      {
       "output_type": "stream",
       "stream": "stdout",
       "text": [
        "\n"
       ]
      },
      {
       "output_type": "stream",
       "stream": "stdout",
       "text": [
        "                                is_in_private_k12_school = numpy.logical_and(psrc_parcel.person.is_in_private_school, person.stype == 2)"
       ]
      },
      {
       "output_type": "stream",
       "stream": "stdout",
       "text": [
        "....0.0 sec"
       ]
      },
      {
       "output_type": "stream",
       "stream": "stdout",
       "text": [
        "\n"
       ]
      },
      {
       "output_type": "stream",
       "stream": "stdout",
       "text": [
        "                            psrc_parcel.person.is_in_private_k12_school*person.age"
       ]
      },
      {
       "output_type": "stream",
       "stream": "stdout",
       "text": [
        "\n"
       ]
      },
      {
       "output_type": "stream",
       "stream": "stdout",
       "text": [
        "                        age_of_oldest_child_in_private_school = household.aggregate(psrc_parcel.person.is_in_private_k12_school * person.age, function=maximum)"
       ]
      },
      {
       "output_type": "stream",
       "stream": "stdout",
       "text": [
        "\n"
       ]
      },
      {
       "output_type": "stream",
       "stream": "stdout",
       "text": [
        "                    has_older_sibling_in_private_school = person.disaggregate(psrc_parcel.household.age_of_oldest_child_in_private_school) > person.age"
       ]
      },
      {
       "output_type": "stream",
       "stream": "stdout",
       "text": [
        "\n"
       ]
      },
      {
       "output_type": "stream",
       "stream": "stdout",
       "text": [
        "                older_sibl_priv = psrc_parcel.person.has_older_sibling_in_private_school"
       ]
      },
      {
       "output_type": "stream",
       "stream": "stdout",
       "text": [
        "\n"
       ]
      },
      {
       "output_type": "stream",
       "stream": "stdout",
       "text": [
        "                Choice set size: 2"
       ]
      },
      {
       "output_type": "stream",
       "stream": "stdout",
       "text": [
        "\n"
       ]
      },
      {
       "output_type": "stream",
       "stream": "stdout",
       "text": [
        "                submodel: -2"
       ]
      },
      {
       "output_type": "stream",
       "stream": "stdout",
       "text": [
        "\n"
       ]
      },
      {
       "output_type": "stream",
       "stream": "stdout",
       "text": [
        "                Convergence achieved."
       ]
      },
      {
       "output_type": "stream",
       "stream": "stdout",
       "text": [
        "\n"
       ]
      },
      {
       "output_type": "stream",
       "stream": "stdout",
       "text": [
        "                Akaike's Information Criterion (AIC):  132.647004918"
       ]
      },
      {
       "output_type": "stream",
       "stream": "stdout",
       "text": [
        "\n"
       ]
      },
      {
       "output_type": "stream",
       "stream": "stdout",
       "text": [
        "                Bayesian Information Criterion (BIC):  141.166167846"
       ]
      },
      {
       "output_type": "stream",
       "stream": "stdout",
       "text": [
        "\n"
       ]
      },
      {
       "output_type": "stream",
       "stream": "stdout",
       "text": [
        "                Number of Iterations:  7"
       ]
      },
      {
       "output_type": "stream",
       "stream": "stdout",
       "text": [
        "\n"
       ]
      },
      {
       "output_type": "stream",
       "stream": "stdout",
       "text": [
        "                ***********************************************"
       ]
      },
      {
       "output_type": "stream",
       "stream": "stdout",
       "text": [
        "\n"
       ]
      },
      {
       "output_type": "stream",
       "stream": "stdout",
       "text": [
        "                Log-likelihood is:            -64.3235024589"
       ]
      },
      {
       "output_type": "stream",
       "stream": "stdout",
       "text": [
        "\n"
       ]
      },
      {
       "output_type": "stream",
       "stream": "stdout",
       "text": [
        "                Null Log-likelihood is:       -362.515975433"
       ]
      },
      {
       "output_type": "stream",
       "stream": "stdout",
       "text": [
        "\n"
       ]
      },
      {
       "output_type": "stream",
       "stream": "stdout",
       "text": [
        "                Likelihood ratio index:       0.822563674933"
       ]
      },
      {
       "output_type": "stream",
       "stream": "stdout",
       "text": [
        "\n"
       ]
      },
      {
       "output_type": "stream",
       "stream": "stdout",
       "text": [
        "                Adj. likelihood ratio index:  0.817046676689"
       ]
      },
      {
       "output_type": "stream",
       "stream": "stdout",
       "text": [
        "\n"
       ]
      },
      {
       "output_type": "stream",
       "stream": "stdout",
       "text": [
        "                Number of observations:       523"
       ]
      },
      {
       "output_type": "stream",
       "stream": "stdout",
       "text": [
        "\n"
       ]
      },
      {
       "output_type": "stream",
       "stream": "stdout",
       "text": [
        "                Number of alternatives:       2"
       ]
      },
      {
       "output_type": "stream",
       "stream": "stdout",
       "text": [
        "\n"
       ]
      },
      {
       "output_type": "stream",
       "stream": "stdout",
       "text": [
        "                Suggested |t-value| >         2.50191555894"
       ]
      },
      {
       "output_type": "stream",
       "stream": "stdout",
       "text": [
        "\n"
       ]
      },
      {
       "output_type": "stream",
       "stream": "stdout",
       "text": [
        "                Convergence statistic is:     5.84030049892e-05"
       ]
      },
      {
       "output_type": "stream",
       "stream": "stdout",
       "text": [
        "\n"
       ]
      },
      {
       "output_type": "stream",
       "stream": "stdout",
       "text": [
        "                -----------------------------------------------"
       ]
      },
      {
       "output_type": "stream",
       "stream": "stdout",
       "text": [
        "\n"
       ]
      },
      {
       "output_type": "stream",
       "stream": "stdout",
       "text": [
        "                Coeff_names\testimate\tstd err\t\tt-values"
       ]
      },
      {
       "output_type": "stream",
       "stream": "stdout",
       "text": [
        "\n"
       ]
      },
      {
       "output_type": "stream",
       "stream": "stdout",
       "text": [
        "                  constant\t-4.28212\t0.411067\t-10.4171"
       ]
      },
      {
       "output_type": "stream",
       "stream": "stdout",
       "text": [
        "\n"
       ]
      },
      {
       "output_type": "stream",
       "stream": "stdout",
       "text": [
        "                older_sibl_priv\t 6.17469\t0.523052\t 11.8051"
       ]
      },
      {
       "output_type": "stream",
       "stream": "stdout",
       "text": [
        "\n"
       ]
      },
      {
       "output_type": "stream",
       "stream": "stdout",
       "text": [
        "                ***********************************************"
       ]
      },
      {
       "output_type": "stream",
       "stream": "stdout",
       "text": [
        "\n"
       ]
      },
      {
       "output_type": "stream",
       "stream": "stdout",
       "text": [
        "            Estimating Choice Model (from psrc_parcel.models.school_type_choice_model): completed...0.1 sec"
       ]
      },
      {
       "output_type": "stream",
       "stream": "stdout",
       "text": [
        "\n"
       ]
      },
      {
       "output_type": "stream",
       "stream": "stdout",
       "text": [
        "        Simulate year 2006: completed....................................4.5 sec"
       ]
      },
      {
       "output_type": "stream",
       "stream": "stdout",
       "text": [
        "\n"
       ]
      },
      {
       "output_type": "stream",
       "stream": "stdout",
       "text": [
        "        Closing log file: /Users/hana/workspace/data/psrc_parcel/base_year_data_school_estimation/year_2006_log.txt"
       ]
      },
      {
       "output_type": "stream",
       "stream": "stdout",
       "text": [
        "\n"
       ]
      },
      {
       "output_type": "stream",
       "stream": "stdout",
       "text": [
        "    Starting simulation for year 2006: completed.........................4.6 sec"
       ]
      },
      {
       "output_type": "stream",
       "stream": "stdout",
       "text": [
        "\n"
       ]
      },
      {
       "output_type": "stream",
       "stream": "stdout",
       "text": [
        "Start simulation run: completed..........................................4.7 sec"
       ]
      },
      {
       "output_type": "stream",
       "stream": "stdout",
       "text": [
        "\n"
       ]
      },
      {
       "output_type": "stream",
       "stream": "stdout",
       "text": [
        "Closing log file: /Users/hana/workspace/data/psrc_parcel/base_year_data_school_estimation/run_model_system.log"
       ]
      },
      {
       "output_type": "stream",
       "stream": "stdout",
       "text": [
        "\n"
       ]
      }
     ],
     "prompt_number": 4
    },
    {
     "cell_type": "heading",
     "level": 3,
     "metadata": {},
     "source": [
      "Private school choice model"
     ]
    },
    {
     "cell_type": "heading",
     "level": 4,
     "metadata": {},
     "source": [
      "Model for oldest child:"
     ]
    },
    {
     "cell_type": "code",
     "collapsed": true,
     "input": [
      "%run ~/workspace/src/opus_core/tools/start_estimation.py -x /Users/hana/workspace/project_configs/psrc_parcel_school.xml -m school_choice_model_private_for_oldest_child"
     ],
     "language": "python",
     "metadata": {},
     "outputs": [
      {
       "output_type": "stream",
       "stream": "stdout",
       "text": [
        "Loading XML configuration: /Users/hana/workspace/project_configs/psrc_parcel_school.xml"
       ]
      },
      {
       "output_type": "stream",
       "stream": "stdout",
       "text": [
        "\n"
       ]
      },
      {
       "output_type": "stream",
       "stream": "stdout",
       "text": [
        "Loading XML configuration: /Users/hana/workspace/project_configs/psrc_parcel_default.xml"
       ]
      },
      {
       "output_type": "stream",
       "stream": "stdout",
       "text": [
        "\n"
       ]
      },
      {
       "output_type": "stream",
       "stream": "stdout",
       "text": [
        "Loading XML configuration: /Users/hana/workspace/src/psrc_parcel/configs/psrc_parcel.xml"
       ]
      },
      {
       "output_type": "stream",
       "stream": "stdout",
       "text": [
        "\n"
       ]
      },
      {
       "output_type": "stream",
       "stream": "stdout",
       "text": [
        "Loading XML configuration: /Users/hana/workspace/src/urbansim_parcel/configs/urbansim_parcel.xml"
       ]
      },
      {
       "output_type": "stream",
       "stream": "stdout",
       "text": [
        "\n"
       ]
      },
      {
       "output_type": "stream",
       "stream": "stdout",
       "text": [
        "Loading XML configuration: /Users/hana/workspace/src/urbansim/configs/urbansim.xml"
       ]
      },
      {
       "output_type": "stream",
       "stream": "stdout",
       "text": [
        "\n"
       ]
      },
      {
       "output_type": "stream",
       "stream": "stdout",
       "text": [
        "Cache Directory set to: /Users/hana/workspace/data/psrc_parcel/base_year_data_school_estimation"
       ]
      },
      {
       "output_type": "stream",
       "stream": "stdout",
       "text": [
        "\n"
       ]
      },
      {
       "output_type": "stream",
       "stream": "stdout",
       "text": [
        "Start simulation run: started on Tue May 21 16:26:18 2013"
       ]
      },
      {
       "output_type": "stream",
       "stream": "stdout",
       "text": [
        "\n"
       ]
      },
      {
       "output_type": "stream",
       "stream": "stdout",
       "text": [
        "    random seed = 1"
       ]
      },
      {
       "output_type": "stream",
       "stream": "stdout",
       "text": [
        "\n"
       ]
      },
      {
       "output_type": "stream",
       "stream": "stdout",
       "text": [
        "    Starting simulation for year 2006: started on Tue May 21 16:26:18 2013"
       ]
      },
      {
       "output_type": "stream",
       "stream": "stdout",
       "text": [
        "\n"
       ]
      },
      {
       "output_type": "stream",
       "stream": "stdout",
       "text": [
        "        Closing log file: /Users/hana/workspace/data/psrc_parcel/base_year_data_school_estimation/run_model_system.log"
       ]
      },
      {
       "output_type": "stream",
       "stream": "stdout",
       "text": [
        "\n"
       ]
      },
      {
       "output_type": "stream",
       "stream": "stdout",
       "text": [
        "        Logging to file: /Users/hana/workspace/data/psrc_parcel/base_year_data_school_estimation/year_2006_log.txt"
       ]
      },
      {
       "output_type": "stream",
       "stream": "stdout",
       "text": [
        "\n"
       ]
      },
      {
       "output_type": "stream",
       "stream": "stdout",
       "text": [
        "        Simulate year 2006: started on Tue May 21 16:26:18 2013"
       ]
      },
      {
       "output_type": "stream",
       "stream": "stdout",
       "text": [
        "\n"
       ]
      },
      {
       "output_type": "stream",
       "stream": "stdout",
       "text": [
        "            sfilter = numpy.logical_and(numpy.logical_and(person.stype == 2, psrc_parcel.person.is_in_private_school), psrc_parcel.person.has_older_sibling_own_age_category_in_private_school==0) * ((psrc_parcel.person.age_category==2) + (psrc_parcel.person.age_category==3) + (psrc_parcel.person.age_category==4))"
       ]
      },
      {
       "output_type": "stream",
       "stream": "stdout",
       "text": [
        "\n"
       ]
      },
      {
       "output_type": "stream",
       "stream": "stdout",
       "text": [
        "                age_category = (1 * (person.age < 5)) + (2 * numpy.logical_and(person.age >=5, person.age < 11)) + (3 * numpy.logical_and(person.age >= 11, person.age < 15)) + (4 * numpy.logical_and(person.age >= 15, person.age < 19)) + (5 * (person.age >= 19))"
       ]
      },
      {
       "output_type": "stream",
       "stream": "stdout",
       "text": [
        "....0.2 sec"
       ]
      },
      {
       "output_type": "stream",
       "stream": "stdout",
       "text": [
        "\n"
       ]
      },
      {
       "output_type": "stream",
       "stream": "stdout",
       "text": [
        "                is_in_private_school = numpy.logical_and(person.is_in_school, person.school_type == 2)"
       ]
      },
      {
       "output_type": "stream",
       "stream": "stdout",
       "text": [
        "....0.0 sec"
       ]
      },
      {
       "output_type": "stream",
       "stream": "stdout",
       "text": [
        "\n"
       ]
      },
      {
       "output_type": "stream",
       "stream": "stdout",
       "text": [
        "                has_older_sibling_own_age_category_in_private_school = ((psrc_parcel.person.age_category == 1) * (person.disaggregate(psrc_parcel.household.age_of_oldest_child_age_category_1_in_private_school) > person.age)) + ((psrc_parcel.person.age_category == 2) * (person.disaggregate(psrc_parcel.household.age_of_oldest_child_age_category_2_in_private_school) > person.age)) + ((psrc_parcel.person.age_category == 3) * (person.disaggregate(psrc_parcel.household.age_of_oldest_child_age_category_3_in_private_school) > person.age)) + ((psrc_parcel.person.age_category == 4) * (person.disaggregate(psrc_parcel.household.age_of_oldest_child_age_category_4_in_private_school) > person.age)) + ((psrc_parcel.person.age_category == 5) * (person.disaggregate(psrc_parcel.household.age_of_oldest_child_age_category_5_in_private_school) > person.age))"
       ]
      },
      {
       "output_type": "stream",
       "stream": "stdout",
       "text": [
        "\n"
       ]
      },
      {
       "output_type": "stream",
       "stream": "stdout",
       "text": [
        "                    age_of_oldest_child_age_category_2_in_private_school = household.aggregate(psrc_parcel.person.is_in_private_k12_school * (psrc_parcel.person.age_category == 2) * person.age, function=maximum)"
       ]
      },
      {
       "output_type": "stream",
       "stream": "stdout",
       "text": [
        "\n"
       ]
      },
      {
       "output_type": "stream",
       "stream": "stdout",
       "text": [
        "                        psrc_parcel.person.is_in_private_k12_school*(psrc_parcel.person.age_category==2)*person.age"
       ]
      },
      {
       "output_type": "stream",
       "stream": "stdout",
       "text": [
        "\n"
       ]
      },
      {
       "output_type": "stream",
       "stream": "stdout",
       "text": [
        "                            is_in_private_k12_school = numpy.logical_and(psrc_parcel.person.is_in_private_school, person.stype == 2)"
       ]
      },
      {
       "output_type": "stream",
       "stream": "stdout",
       "text": [
        "....0.0 sec"
       ]
      },
      {
       "output_type": "stream",
       "stream": "stdout",
       "text": [
        "\n"
       ]
      },
      {
       "output_type": "stream",
       "stream": "stdout",
       "text": [
        "                        psrc_parcel.person.is_in_private_k12_school*(psrc_parcel.person.age_category==2)*person.age"
       ]
      },
      {
       "output_type": "stream",
       "stream": "stdout",
       "text": [
        "\n"
       ]
      },
      {
       "output_type": "stream",
       "stream": "stdout",
       "text": [
        "                    age_of_oldest_child_age_category_2_in_private_school = household.aggregate(psrc_parcel.person.is_in_private_k12_school * (psrc_parcel.person.age_category == 2) * person.age, function=maximum)"
       ]
      },
      {
       "output_type": "stream",
       "stream": "stdout",
       "text": [
        "\n"
       ]
      },
      {
       "output_type": "stream",
       "stream": "stdout",
       "text": [
        "                    age_of_oldest_child_age_category_5_in_private_school = household.aggregate(psrc_parcel.person.is_in_private_k12_school * (psrc_parcel.person.age_category == 5) * person.age, function=maximum)"
       ]
      },
      {
       "output_type": "stream",
       "stream": "stdout",
       "text": [
        "\n"
       ]
      },
      {
       "output_type": "stream",
       "stream": "stdout",
       "text": [
        "                        psrc_parcel.person.is_in_private_k12_school*(psrc_parcel.person.age_category==5)*person.age"
       ]
      },
      {
       "output_type": "stream",
       "stream": "stdout",
       "text": [
        "....0.0 sec"
       ]
      },
      {
       "output_type": "stream",
       "stream": "stdout",
       "text": [
        "\n"
       ]
      },
      {
       "output_type": "stream",
       "stream": "stdout",
       "text": [
        "                    age_of_oldest_child_age_category_5_in_private_school = household.aggregate(psrc_parcel.person.is_in_private_k12_school * (psrc_parcel.person.age_category == 5) * person.age, function=maximum)"
       ]
      },
      {
       "output_type": "stream",
       "stream": "stdout",
       "text": [
        "\n"
       ]
      },
      {
       "output_type": "stream",
       "stream": "stdout",
       "text": [
        "                    age_of_oldest_child_age_category_4_in_private_school = household.aggregate(psrc_parcel.person.is_in_private_k12_school * (psrc_parcel.person.age_category == 4) * person.age, function=maximum)"
       ]
      },
      {
       "output_type": "stream",
       "stream": "stdout",
       "text": [
        "\n"
       ]
      },
      {
       "output_type": "stream",
       "stream": "stdout",
       "text": [
        "                        psrc_parcel.person.is_in_private_k12_school*(psrc_parcel.person.age_category==4)*person.age"
       ]
      },
      {
       "output_type": "stream",
       "stream": "stdout",
       "text": [
        "....0.0 sec"
       ]
      },
      {
       "output_type": "stream",
       "stream": "stdout",
       "text": [
        "\n"
       ]
      },
      {
       "output_type": "stream",
       "stream": "stdout",
       "text": [
        "                    age_of_oldest_child_age_category_4_in_private_school = household.aggregate(psrc_parcel.person.is_in_private_k12_school * (psrc_parcel.person.age_category == 4) * person.age, function=maximum)"
       ]
      },
      {
       "output_type": "stream",
       "stream": "stdout",
       "text": [
        "\n"
       ]
      },
      {
       "output_type": "stream",
       "stream": "stdout",
       "text": [
        "                    age_of_oldest_child_age_category_1_in_private_school = household.aggregate(psrc_parcel.person.is_in_private_k12_school * (psrc_parcel.person.age_category == 1) * person.age, function=maximum)"
       ]
      },
      {
       "output_type": "stream",
       "stream": "stdout",
       "text": [
        "\n"
       ]
      },
      {
       "output_type": "stream",
       "stream": "stdout",
       "text": [
        "                        psrc_parcel.person.is_in_private_k12_school*(psrc_parcel.person.age_category==1)*person.age"
       ]
      },
      {
       "output_type": "stream",
       "stream": "stdout",
       "text": [
        "....0.0 sec"
       ]
      },
      {
       "output_type": "stream",
       "stream": "stdout",
       "text": [
        "\n"
       ]
      },
      {
       "output_type": "stream",
       "stream": "stdout",
       "text": [
        "                    age_of_oldest_child_age_category_1_in_private_school = household.aggregate(psrc_parcel.person.is_in_private_k12_school * (psrc_parcel.person.age_category == 1) * person.age, function=maximum)"
       ]
      },
      {
       "output_type": "stream",
       "stream": "stdout",
       "text": [
        "\n"
       ]
      },
      {
       "output_type": "stream",
       "stream": "stdout",
       "text": [
        "                    age_of_oldest_child_age_category_3_in_private_school = household.aggregate(psrc_parcel.person.is_in_private_k12_school * (psrc_parcel.person.age_category == 3) * person.age, function=maximum)"
       ]
      },
      {
       "output_type": "stream",
       "stream": "stdout",
       "text": [
        "\n"
       ]
      },
      {
       "output_type": "stream",
       "stream": "stdout",
       "text": [
        "                        psrc_parcel.person.is_in_private_k12_school*(psrc_parcel.person.age_category==3)*person.age"
       ]
      },
      {
       "output_type": "stream",
       "stream": "stdout",
       "text": [
        "....0.0 sec"
       ]
      },
      {
       "output_type": "stream",
       "stream": "stdout",
       "text": [
        "\n"
       ]
      },
      {
       "output_type": "stream",
       "stream": "stdout",
       "text": [
        "                    age_of_oldest_child_age_category_3_in_private_school = household.aggregate(psrc_parcel.person.is_in_private_k12_school * (psrc_parcel.person.age_category == 3) * person.age, function=maximum)"
       ]
      },
      {
       "output_type": "stream",
       "stream": "stdout",
       "text": [
        "\n"
       ]
      },
      {
       "output_type": "stream",
       "stream": "stdout",
       "text": [
        "                has_older_sibling_own_age_category_in_private_school = ((psrc_parcel.person.age_category == 1) * (person.disaggregate(psrc_parcel.household.age_of_oldest_child_age_category_1_in_private_school) > person.age)) + ((psrc_parcel.person.age_category == 2) * (person.disaggregate(psrc_parcel.household.age_of_oldest_child_age_category_2_in_private_school) > person.age)) + ((psrc_parcel.person.age_category == 3) * (person.disaggregate(psrc_parcel.household.age_of_oldest_child_age_category_3_in_private_school) > person.age)) + ((psrc_parcel.person.age_category == 4) * (person.disaggregate(psrc_parcel.household.age_of_oldest_child_age_category_4_in_private_school) > person.age)) + ((psrc_parcel.person.age_category == 5) * (person.disaggregate(psrc_parcel.household.age_of_oldest_child_age_category_5_in_private_school) > person.age))"
       ]
      },
      {
       "output_type": "stream",
       "stream": "stdout",
       "text": [
        "\n"
       ]
      },
      {
       "output_type": "stream",
       "stream": "stdout",
       "text": [
        "            sfilter = numpy.logical_and(numpy.logical_and(person.stype == 2, psrc_parcel.person.is_in_private_school), psrc_parcel.person.has_older_sibling_own_age_category_in_private_school==0) * ((psrc_parcel.person.age_category==2) + (psrc_parcel.person.age_category==3) + (psrc_parcel.person.age_category==4))"
       ]
      },
      {
       "output_type": "stream",
       "stream": "stdout",
       "text": [
        "\n"
       ]
      },
      {
       "output_type": "stream",
       "stream": "stdout",
       "text": [
        "            Estimating School Location Choice Model (from psrc_parcel.models.school_choice_model): started on Tue May 21 16:26:19 2013"
       ]
      },
      {
       "output_type": "stream",
       "stream": "stdout",
       "text": [
        "\n"
       ]
      },
      {
       "output_type": "stream",
       "stream": "stdout",
       "text": [
        "                NOTE: Using dataset pool: ['psrc_parcel', 'urbansim_parcel', 'urbansim', 'opus_core']"
       ]
      },
      {
       "output_type": "stream",
       "stream": "stdout",
       "text": [
        "\n"
       ]
      },
      {
       "output_type": "stream",
       "stream": "stdout",
       "text": [
        "                (school.public==0)*psrc_parcel.school.is_in_category_2"
       ]
      },
      {
       "output_type": "stream",
       "stream": "stdout",
       "text": [
        "\n"
       ]
      },
      {
       "output_type": "stream",
       "stream": "stdout",
       "text": [
        "                    is_in_category_2 = (school.category == 'K') + (school.category == 'E') + (school.category == 'EM') + (school.category == 'EMH')"
       ]
      },
      {
       "output_type": "stream",
       "stream": "stdout",
       "text": [
        "....0.0 sec"
       ]
      },
      {
       "output_type": "stream",
       "stream": "stdout",
       "text": [
        "\n"
       ]
      },
      {
       "output_type": "stream",
       "stream": "stdout",
       "text": [
        "                (school.public==0)*psrc_parcel.school.is_in_category_2"
       ]
      },
      {
       "output_type": "stream",
       "stream": "stdout",
       "text": [
        "\n"
       ]
      },
      {
       "output_type": "stream",
       "stream": "stdout",
       "text": [
        "                (school.public==0)*psrc_parcel.school.is_in_category_3"
       ]
      },
      {
       "output_type": "stream",
       "stream": "stdout",
       "text": [
        "\n"
       ]
      },
      {
       "output_type": "stream",
       "stream": "stdout",
       "text": [
        "                    is_in_category_3 = (school.category == 'M') + (school.category == 'EM') + (school.category == 'EMH')  + (school.category == 'MH')"
       ]
      },
      {
       "output_type": "stream",
       "stream": "stdout",
       "text": [
        "....0.0 sec"
       ]
      },
      {
       "output_type": "stream",
       "stream": "stdout",
       "text": [
        "\n"
       ]
      },
      {
       "output_type": "stream",
       "stream": "stdout",
       "text": [
        "                (school.public==0)*psrc_parcel.school.is_in_category_3"
       ]
      },
      {
       "output_type": "stream",
       "stream": "stdout",
       "text": [
        "\n"
       ]
      },
      {
       "output_type": "stream",
       "stream": "stdout",
       "text": [
        "                (school.public==0)*psrc_parcel.school.is_in_category_4"
       ]
      },
      {
       "output_type": "stream",
       "stream": "stdout",
       "text": [
        "\n"
       ]
      },
      {
       "output_type": "stream",
       "stream": "stdout",
       "text": [
        "                    is_in_category_4 = (school.category == 'H') + (school.category == 'MH') + (school.category == 'EMH')"
       ]
      },
      {
       "output_type": "stream",
       "stream": "stdout",
       "text": [
        "....0.0 sec"
       ]
      },
      {
       "output_type": "stream",
       "stream": "stdout",
       "text": [
        "\n"
       ]
      },
      {
       "output_type": "stream",
       "stream": "stdout",
       "text": [
        "                (school.public==0)*psrc_parcel.school.is_in_category_4"
       ]
      },
      {
       "output_type": "stream",
       "stream": "stdout",
       "text": [
        "\n"
       ]
      },
      {
       "output_type": "stream",
       "stream": "stdout",
       "text": [
        "                WARNING: weight array dosen't have enough non-zero counts, use sample with replacement"
       ]
      },
      {
       "output_type": "stream",
       "stream": "stdout",
       "text": [
        "\n"
       ]
      },
      {
       "output_type": "stream",
       "stream": "stdout",
       "text": [
        "                same_school_district = psrc_parcel.person.school_district_id == school.disaggregate(parcel.school_district_id)"
       ]
      },
      {
       "output_type": "stream",
       "stream": "stdout",
       "text": [
        "\n"
       ]
      },
      {
       "output_type": "stream",
       "stream": "stdout",
       "text": [
        "                    school_district_id = person.disaggregate(parcel.school_district_id, intermediates=[building])"
       ]
      },
      {
       "output_type": "stream",
       "stream": "stdout",
       "text": [
        "\n"
       ]
      },
      {
       "output_type": "stream",
       "stream": "stdout",
       "text": [
        "                        building.disaggregate(parcel.school_district_id)"
       ]
      },
      {
       "output_type": "stream",
       "stream": "stdout",
       "text": [
        "....0.6 sec"
       ]
      },
      {
       "output_type": "stream",
       "stream": "stdout",
       "text": [
        "\n"
       ]
      },
      {
       "output_type": "stream",
       "stream": "stdout",
       "text": [
        "                        building_id = person.disaggregate(household.building_id)"
       ]
      },
      {
       "output_type": "stream",
       "stream": "stdout",
       "text": [
        "....0.0 sec"
       ]
      },
      {
       "output_type": "stream",
       "stream": "stdout",
       "text": [
        "\n"
       ]
      },
      {
       "output_type": "stream",
       "stream": "stdout",
       "text": [
        "                    school_district_id = person.disaggregate(parcel.school_district_id, intermediates=[building])"
       ]
      },
      {
       "output_type": "stream",
       "stream": "stdout",
       "text": [
        "\n"
       ]
      },
      {
       "output_type": "stream",
       "stream": "stdout",
       "text": [
        "                same_school_district = psrc_parcel.person.school_district_id == school.disaggregate(parcel.school_district_id)"
       ]
      },
      {
       "output_type": "stream",
       "stream": "stdout",
       "text": [
        "\n"
       ]
      },
      {
       "output_type": "stream",
       "stream": "stdout",
       "text": [
        "                traveldist_if_out_distr = psrc_parcel.person_x_school.network_distance_from_home_to_school*numpy.logical_not(psrc_parcel.person_x_school.same_school_district)"
       ]
      },
      {
       "output_type": "stream",
       "stream": "stdout",
       "text": [
        "\n"
       ]
      },
      {
       "output_type": "stream",
       "stream": "stdout",
       "text": [
        "                    psrc_parcel.person_x_school.network_distance_from_home_to_school"
       ]
      },
      {
       "output_type": "stream",
       "stream": "stdout",
       "text": [
        "\n"
       ]
      },
      {
       "output_type": "stream",
       "stream": "stdout",
       "text": [
        "                        zone_id=person.disaggregate(urbansim_parcel.household.zone_id)"
       ]
      },
      {
       "output_type": "stream",
       "stream": "stdout",
       "text": [
        "\n"
       ]
      },
      {
       "output_type": "stream",
       "stream": "stdout",
       "text": [
        "                            zone_id = household.disaggregate(urbansim_parcel.building.zone_id)"
       ]
      },
      {
       "output_type": "stream",
       "stream": "stdout",
       "text": [
        "\n"
       ]
      },
      {
       "output_type": "stream",
       "stream": "stdout",
       "text": [
        "                                zone_id = building.disaggregate(parcel.zone_id)"
       ]
      },
      {
       "output_type": "stream",
       "stream": "stdout",
       "text": [
        "....0.3 sec"
       ]
      },
      {
       "output_type": "stream",
       "stream": "stdout",
       "text": [
        "\n"
       ]
      },
      {
       "output_type": "stream",
       "stream": "stdout",
       "text": [
        "                            zone_id = household.disaggregate(urbansim_parcel.building.zone_id)"
       ]
      },
      {
       "output_type": "stream",
       "stream": "stdout",
       "text": [
        "\n"
       ]
      },
      {
       "output_type": "stream",
       "stream": "stdout",
       "text": [
        "                        zone_id=person.disaggregate(urbansim_parcel.household.zone_id)"
       ]
      },
      {
       "output_type": "stream",
       "stream": "stdout",
       "text": [
        "\n"
       ]
      },
      {
       "output_type": "stream",
       "stream": "stdout",
       "text": [
        "                        zone_id = school.disaggregate(parcel.zone_id)"
       ]
      },
      {
       "output_type": "stream",
       "stream": "stdout",
       "text": [
        "....0.0 sec"
       ]
      },
      {
       "output_type": "stream",
       "stream": "stdout",
       "text": [
        "\n"
       ]
      },
      {
       "output_type": "stream",
       "stream": "stdout",
       "text": [
        "                        WARNING: Values for 453 O-D pairs in (173, 100) interaction dataset reset."
       ]
      },
      {
       "output_type": "stream",
       "stream": "stdout",
       "text": [
        "\n"
       ]
      },
      {
       "output_type": "stream",
       "stream": "stdout",
       "text": [
        "                        WARNING: O-D pairs below do not appear in travel data; their values set to 180.0:\n",
        "                         [[393  -1]\n",
        "                         [393  -1]\n",
        "                         [393  -1]\n",
        "                         [393  -1]\n",
        "                         [393  -1]\n",
        "                         [214  -1]\n",
        "                         [214  -1]\n",
        "                         [ 51  -1]\n",
        "                         [ 51  -1]\n",
        "                         [ 34  -1]\n",
        "                         [ 34  -1]\n",
        "                         [ 34  -1]\n",
        "                         [ 34  -1]\n",
        "                         [ 34  -1]\n",
        "                         [ 34  -1]\n",
        "                         [ 34  -1]\n",
        "                         [ 34  -1]\n",
        "                         [ 34  -1]\n",
        "                         [452  -1]\n",
        "                         [452  -1]\n",
        "                         [452  -1]\n",
        "                         [452  -1]\n",
        "                         [452  -1]\n",
        "                         [452  -1]\n",
        "                         [452  -1]\n",
        "                         [452  -1]\n",
        "                         [452  -1]\n",
        "                         [452  -1]\n",
        "                         [452  -1]\n",
        "                         [452  -1]\n",
        "                         [211  -1]\n",
        "                         [749  -1]\n",
        "                         [749  -1]\n",
        "                         [749  -1]\n",
        "                         [749  -1]\n",
        "                         [749  -1]\n",
        "                         [ 55  -1]\n",
        "                         [ 55  -1]\n",
        "                         [ 55  -1]\n",
        "                         [ 55  -1]\n",
        "                         [ 55  -1]\n",
        "                         [ 55  -1]\n",
        "                         [ 38  -1]\n",
        "                         [ 38  -1]\n",
        "                         [ 38  -1]\n",
        "                         [ 38  -1]\n",
        "                         [346  -1]\n",
        "                         [346  -1]\n",
        "                         [346  -1]\n",
        "                         [346  -1]\n",
        "                         [ 57  -1]\n",
        "                         [ 57  -1]\n",
        "                         [ 57  -1]\n",
        "                         [ 21  -1]\n",
        "                         [ 21  -1]\n",
        "                         [ 21  -1]\n",
        "                         [ 21  -1]\n",
        "                         [ 21  -1]\n",
        "                         [ 21  -1]\n",
        "                         [ 21  -1]\n",
        "                         [ 21  -1]\n",
        "                         [ 21  -1]\n",
        "                         [493  -1]\n",
        "                         [493  -1]\n",
        "                         [493  -1]\n",
        "                         [493  -1]\n",
        "                         [493  -1]\n",
        "                         [ 69  -1]\n",
        "                         [ 69  -1]\n",
        "                         [ 69  -1]\n",
        "                         [ 69  -1]\n",
        "                         [ 69  -1]\n",
        "                         [712  -1]\n",
        "                         [712  -1]\n",
        "                         [831  -1]\n",
        "                         [831  -1]\n",
        "                         [831  -1]\n",
        "                         [831  -1]\n",
        "                         [831  -1]\n",
        "                         [831  -1]\n",
        "                         [831  -1]\n",
        "                         [831  -1]\n",
        "                         [605  -1]\n",
        "                         [605  -1]\n",
        "                         [922  -1]\n",
        "                         [922  -1]\n",
        "                         [ 33  -1]\n",
        "                         [ 33  -1]\n",
        "                         [ 33  -1]\n",
        "                         [ 33  -1]\n",
        "                         [ 33  -1]\n",
        "                         [ 33  -1]\n",
        "                         [ 33  -1]\n",
        "                         [ 57  -1]\n",
        "                         [ 57  -1]\n",
        "                         [779  -1]\n",
        "                         [640  -1]\n",
        "                         [640  -1]\n",
        "                         [640  -1]\n",
        "                         [640  -1]\n",
        "                         [640  -1]\n",
        "                         [640  -1]\n",
        "                         [640  -1]\n",
        "                         [185  -1]\n",
        "                         [185  -1]\n",
        "                         [271  -1]\n",
        "                         [271  -1]\n",
        "                         [271  -1]\n",
        "                         [271  -1]\n",
        "                         [271  -1]\n",
        "                         [271  -1]\n",
        "                         [271  -1]\n",
        "                         [271  -1]\n",
        "                         [271  -1]\n",
        "                         [271  -1]\n",
        "                         [362  -1]\n",
        "                         [362  -1]\n",
        "                         [643  -1]\n",
        "                         [643  -1]\n",
        "                         [643  -1]\n",
        "                         [ 92  -1]\n",
        "                         [ 92  -1]\n",
        "                         [193  -1]\n",
        "                         [ 25  -1]\n",
        "                         [ 25  -1]\n",
        "                         [ 45  -1]\n",
        "                         [ 45  -1]\n",
        "                         [576  -1]\n",
        "                         [576  -1]\n",
        "                         [576  -1]\n",
        "                         [576  -1]\n",
        "                         [205  -1]\n",
        "                         [205  -1]\n",
        "                         [207  -1]\n",
        "                         [207  -1]\n",
        "                         [207  -1]\n",
        "                         [207  -1]\n",
        "                         [207  -1]\n",
        "                         [207  -1]\n",
        "                         [235  -1]\n",
        "                         [235  -1]\n",
        "                         [235  -1]\n",
        "                         [235  -1]\n",
        "                         [235  -1]\n",
        "                         [ 89  -1]\n",
        "                         [ 89  -1]\n",
        "                         [581  -1]\n",
        "                         [581  -1]\n",
        "                         [ 75  -1]\n",
        "                         [ 63  -1]\n",
        "                         [ 63  -1]\n",
        "                         [  9  -1]\n",
        "                         [  9  -1]\n",
        "                         [173  -1]\n",
        "                         [173  -1]\n",
        "                         [173  -1]\n",
        "                         [173  -1]\n",
        "                         [173  -1]\n",
        "                         [173  -1]\n",
        "                         [253  -1]\n",
        "                         [904  -1]\n",
        "                         [904  -1]\n",
        "                         [ 55  -1]\n",
        "                         [ 55  -1]\n",
        "                         [ 55  -1]\n",
        "                         [ 55  -1]\n",
        "                         [ 55  -1]\n",
        "                         [ 55  -1]\n",
        "                         [ 57  -1]\n",
        "                         [ 57  -1]\n",
        "                         [ 57  -1]\n",
        "                         [ 57  -1]\n",
        "                         [ 57  -1]\n",
        "                         [ 50  -1]\n",
        "                         [619  -1]\n",
        "                         [619  -1]\n",
        "                         [619  -1]\n",
        "                         [294  -1]\n",
        "                         [294  -1]\n",
        "                         [ 60  -1]\n",
        "                         [ 60  -1]\n",
        "                         [ 60  -1]\n",
        "                         [ 60  -1]\n",
        "                         [ 60  -1]\n",
        "                         [ 60  -1]\n",
        "                         [472  -1]\n",
        "                         [472  -1]\n",
        "                         [ 76  -1]\n",
        "                         [ 76  -1]\n",
        "                         [ 76  -1]\n",
        "                         [ 76  -1]\n",
        "                         [ 76  -1]\n",
        "                         [ 76  -1]\n",
        "                         [ 76  -1]\n",
        "                         [ 76  -1]\n",
        "                         [916  -1]\n",
        "                         [916  -1]\n",
        "                         [528  -1]\n",
        "                         [528  -1]\n",
        "                         [500  -1]\n",
        "                         [500  -1]\n",
        "                         [500  -1]\n",
        "                         [500  -1]\n",
        "                         [500  -1]\n",
        "                         [689  -1]\n",
        "                         [689  -1]\n",
        "                         [611  -1]\n",
        "                         [611  -1]\n",
        "                         [611  -1]\n",
        "                         [611  -1]\n",
        "                         [611  -1]\n",
        "                         [611  -1]\n",
        "                         [611  -1]\n",
        "                         [611  -1]\n",
        "                         [909  -1]\n",
        "                         [585  -1]\n",
        "                         [585  -1]\n",
        "                         [801  -1]\n",
        "                         [801  -1]\n",
        "                         [801  -1]\n",
        "                         [801  -1]\n",
        "                         [801  -1]\n",
        "                         [801  -1]\n",
        "                         [ 36  -1]\n",
        "                         [ 36  -1]\n",
        "                         [189  -1]\n",
        "                         [189  -1]\n",
        "                         [753  -1]\n",
        "                         [753  -1]\n",
        "                         [ 97  -1]\n",
        "                         [ 97  -1]\n",
        "                         [ 97  -1]\n",
        "                         [ 97  -1]\n",
        "                         [489  -1]\n",
        "                         [489  -1]\n",
        "                         [738  -1]\n",
        "                         [738  -1]\n",
        "                         [619  -1]\n",
        "                         [619  -1]\n",
        "                         [ 46  -1]\n",
        "                         [ 46  -1]\n",
        "                         [ 46  -1]\n",
        "                         [ 46  -1]\n",
        "                         [ 46  -1]\n",
        "                         [ 54  -1]\n",
        "                         [ 54  -1]\n",
        "                         [ 54  -1]\n",
        "                         [ 54  -1]\n",
        "                         [ 87  -1]\n",
        "                         [ 87  -1]\n",
        "                         [ 87  -1]\n",
        "                         [578  -1]\n",
        "                         [578  -1]\n",
        "                         [578  -1]\n",
        "                         [578  -1]\n",
        "                         [578  -1]\n",
        "                         [578  -1]\n",
        "                         [578  -1]\n",
        "                         [588  -1]\n",
        "                         [588  -1]\n",
        "                         [687  -1]\n",
        "                         [687  -1]\n",
        "                         [687  -1]\n",
        "                         [764  -1]\n",
        "                         [764  -1]\n",
        "                         [764  -1]\n",
        "                         [687  -1]\n",
        "                         [687  -1]\n",
        "                         [687  -1]\n",
        "                         [687  -1]\n",
        "                         [687  -1]\n",
        "                         [687  -1]\n",
        "                         [687  -1]\n",
        "                         [687  -1]\n",
        "                         [637  -1]\n",
        "                         [430  -1]\n",
        "                         [ 83  -1]\n",
        "                         [ 83  -1]\n",
        "                         [ 83  -1]\n",
        "                         [116  -1]\n",
        "                         [116  -1]\n",
        "                         [116  -1]\n",
        "                         [327  -1]\n",
        "                         [327  -1]\n",
        "                         [329  -1]\n",
        "                         [329  -1]\n",
        "                         [ 30  -1]\n",
        "                         [ 30  -1]\n",
        "                         [ 30  -1]\n",
        "                         [ 30  -1]\n",
        "                         [ 13  -1]\n",
        "                         [ 13  -1]\n",
        "                         [280  -1]\n",
        "                         [280  -1]\n",
        "                         [282  -1]\n",
        "                         [282  -1]\n",
        "                         [282  -1]\n",
        "                         [282  -1]\n",
        "                         [282  -1]\n",
        "                         [232  -1]\n",
        "                         [232  -1]\n",
        "                         [232  -1]\n",
        "                         [373  -1]\n",
        "                         [373  -1]\n",
        "                         [373  -1]\n",
        "                         [373  -1]\n",
        "                         [155  -1]\n",
        "                         [254  -1]\n",
        "                         [ 69  -1]\n",
        "                         [ 69  -1]\n",
        "                         [ 69  -1]\n",
        "                         [ 69  -1]\n",
        "                         [373  -1]\n",
        "                         [271  -1]\n",
        "                         [271  -1]\n",
        "                         [ 27  -1]\n",
        "                         [ 27  -1]\n",
        "                         [ 27  -1]\n",
        "                         [ 27  -1]\n",
        "                         [ 27  -1]\n",
        "                         [503  -1]\n",
        "                         [361  -1]\n",
        "                         [ 76  -1]\n",
        "                         [ 76  -1]\n",
        "                         [174  -1]\n",
        "                         [174  -1]\n",
        "                         [ 53  -1]\n",
        "                         [ 53  -1]\n",
        "                         [ 53  -1]\n",
        "                         [175  -1]\n",
        "                         [175  -1]\n",
        "                         [362  -1]\n",
        "                         [362  -1]\n",
        "                         [417  -1]\n",
        "                         [417  -1]\n",
        "                         [313  -1]\n",
        "                         [313  -1]\n",
        "                         [313  -1]\n",
        "                         [231  -1]\n",
        "                         [231  -1]\n",
        "                         [207  -1]\n",
        "                         [207  -1]\n",
        "                         [207  -1]\n",
        "                         [207  -1]\n",
        "                         [ 95  -1]\n",
        "                         [ 95  -1]\n",
        "                         [ 95  -1]\n",
        "                         [ 95  -1]\n",
        "                         [ 95  -1]\n",
        "                         [ 95  -1]\n",
        "                         [498  -1]\n",
        "                         [498  -1]\n",
        "                         [781  -1]\n",
        "                         [781  -1]\n",
        "                         [781  -1]\n",
        "                         [  7  -1]\n",
        "                         [  7  -1]\n",
        "                         [  7  -1]\n",
        "                         [  7  -1]\n",
        "                         [  7  -1]\n",
        "                         [  7  -1]\n",
        "                         [  7  -1]\n",
        "                         [300  -1]\n",
        "                         [300  -1]\n",
        "                         [173  -1]\n",
        "                         [173  -1]\n",
        "                         [154  -1]\n",
        "                         [154  -1]\n",
        "                         [ 55  -1]\n",
        "                         [ 38  -1]\n",
        "                         [ 38  -1]\n",
        "                         [ 38  -1]\n",
        "                         [ 66  -1]\n",
        "                         [ 66  -1]\n",
        "                         [ 66  -1]\n",
        "                         [ 30  -1]\n",
        "                         [ 30  -1]\n",
        "                         [ 30  -1]\n",
        "                         [ 30  -1]\n",
        "                         [ 30  -1]\n",
        "                         [ 30  -1]\n",
        "                         [ 91  -1]\n",
        "                         [ 91  -1]\n",
        "                         [ 91  -1]\n",
        "                         [ 91  -1]\n",
        "                         [ 91  -1]\n",
        "                         [ 91  -1]\n",
        "                         [ 91  -1]\n",
        "                         [ 56  -1]\n",
        "                         [ 56  -1]\n",
        "                         [150  -1]\n",
        "                         [150  -1]\n",
        "                         [150  -1]\n",
        "                         [150  -1]\n",
        "                         [150  -1]\n",
        "                         [150  -1]\n",
        "                         [150  -1]\n",
        "                         [150  -1]\n",
        "                         [150  -1]\n",
        "                         [171  -1]\n",
        "                         [171  -1]\n",
        "                         [171  -1]\n",
        "                         [171  -1]\n",
        "                         [171  -1]\n",
        "                         [171  -1]\n",
        "                         [ 11  -1]\n",
        "                         [ 11  -1]\n",
        "                         [ 11  -1]\n",
        "                         [ 11  -1]\n",
        "                         [ 11  -1]\n",
        "                         [173  -1]\n",
        "                         [173  -1]\n",
        "                         [173  -1]\n",
        "                         [173  -1]\n",
        "                         [173  -1]\n",
        "                         [173  -1]\n",
        "                         [173  -1]\n",
        "                         [173  -1]\n",
        "                         [173  -1]\n",
        "                         [ 89  -1]\n",
        "                         [ 89  -1]\n",
        "                         [ 89  -1]\n",
        "                         [ 36  -1]\n",
        "                         [183  -1]\n",
        "                         [183  -1]\n",
        "                         [ 64  -1]\n",
        "                         [ 64  -1]\n",
        "                         [113  -1]\n",
        "                         [113  -1]\n",
        "                         [ 54  -1]\n",
        "                         [ 54  -1]\n",
        "                         [ 18  -1]\n",
        "                         [ 18  -1]\n",
        "                         [178  -1]\n",
        "                         [178  -1]\n",
        "                         [249  -1]\n",
        "                         [249  -1]\n",
        "                         [249  -1]\n",
        "                         [249  -1]\n",
        "                         [249  -1]\n",
        "                         [ 33  -1]\n",
        "                         [ 33  -1]\n",
        "                         [ 33  -1]\n",
        "                         [ 33  -1]\n",
        "                         [192  -1]\n",
        "                         [473  -1]\n",
        "                         [521  -1]\n",
        "                         [521  -1]\n",
        "                         [521  -1]\n",
        "                         [521  -1]\n",
        "                         [521  -1]\n",
        "                         [456  -1]\n",
        "                         [456  -1]]"
       ]
      },
      {
       "output_type": "stream",
       "stream": "stdout",
       "text": [
        "\n"
       ]
      },
      {
       "output_type": "stream",
       "stream": "stdout",
       "text": [
        "                    psrc_parcel.person_x_school.network_distance_from_home_to_school"
       ]
      },
      {
       "output_type": "stream",
       "stream": "stdout",
       "text": [
        "\n"
       ]
      },
      {
       "output_type": "stream",
       "stream": "stdout",
       "text": [
        "                traveldist_if_out_distr = psrc_parcel.person_x_school.network_distance_from_home_to_school*numpy.logical_not(psrc_parcel.person_x_school.same_school_district)"
       ]
      },
      {
       "output_type": "stream",
       "stream": "stdout",
       "text": [
        "\n"
       ]
      },
      {
       "output_type": "stream",
       "stream": "stdout",
       "text": [
        "                walktime_if_same_distr = psrc_parcel.person_x_school.am_total_transit_time_walk_from_home_to_school*psrc_parcel.person_x_school.same_school_district"
       ]
      },
      {
       "output_type": "stream",
       "stream": "stdout",
       "text": [
        "\n"
       ]
      },
      {
       "output_type": "stream",
       "stream": "stdout",
       "text": [
        "                    psrc_parcel.person_x_school.am_total_transit_time_walk_from_home_to_school"
       ]
      },
      {
       "output_type": "stream",
       "stream": "stdout",
       "text": [
        "\n"
       ]
      },
      {
       "output_type": "stream",
       "stream": "stdout",
       "text": [
        "                        WARNING: Values for 453 O-D pairs in (173, 100) interaction dataset reset."
       ]
      },
      {
       "output_type": "stream",
       "stream": "stdout",
       "text": [
        "\n"
       ]
      },
      {
       "output_type": "stream",
       "stream": "stdout",
       "text": [
        "                        WARNING: O-D pairs below do not appear in travel data; their values set to 180.0:\n",
        "                         [[393  -1]\n",
        "                         [393  -1]\n",
        "                         [393  -1]\n",
        "                         [393  -1]\n",
        "                         [393  -1]\n",
        "                         [214  -1]\n",
        "                         [214  -1]\n",
        "                         [ 51  -1]\n",
        "                         [ 51  -1]\n",
        "                         [ 34  -1]\n",
        "                         [ 34  -1]\n",
        "                         [ 34  -1]\n",
        "                         [ 34  -1]\n",
        "                         [ 34  -1]\n",
        "                         [ 34  -1]\n",
        "                         [ 34  -1]\n",
        "                         [ 34  -1]\n",
        "                         [ 34  -1]\n",
        "                         [452  -1]\n",
        "                         [452  -1]\n",
        "                         [452  -1]\n",
        "                         [452  -1]\n",
        "                         [452  -1]\n",
        "                         [452  -1]\n",
        "                         [452  -1]\n",
        "                         [452  -1]\n",
        "                         [452  -1]\n",
        "                         [452  -1]\n",
        "                         [452  -1]\n",
        "                         [452  -1]\n",
        "                         [211  -1]\n",
        "                         [749  -1]\n",
        "                         [749  -1]\n",
        "                         [749  -1]\n",
        "                         [749  -1]\n",
        "                         [749  -1]\n",
        "                         [ 55  -1]\n",
        "                         [ 55  -1]\n",
        "                         [ 55  -1]\n",
        "                         [ 55  -1]\n",
        "                         [ 55  -1]\n",
        "                         [ 55  -1]\n",
        "                         [ 38  -1]\n",
        "                         [ 38  -1]\n",
        "                         [ 38  -1]\n",
        "                         [ 38  -1]\n",
        "                         [346  -1]\n",
        "                         [346  -1]\n",
        "                         [346  -1]\n",
        "                         [346  -1]\n",
        "                         [ 57  -1]\n",
        "                         [ 57  -1]\n",
        "                         [ 57  -1]\n",
        "                         [ 21  -1]\n",
        "                         [ 21  -1]\n",
        "                         [ 21  -1]\n",
        "                         [ 21  -1]\n",
        "                         [ 21  -1]\n",
        "                         [ 21  -1]\n",
        "                         [ 21  -1]\n",
        "                         [ 21  -1]\n",
        "                         [ 21  -1]\n",
        "                         [493  -1]\n",
        "                         [493  -1]\n",
        "                         [493  -1]\n",
        "                         [493  -1]\n",
        "                         [493  -1]\n",
        "                         [ 69  -1]\n",
        "                         [ 69  -1]\n",
        "                         [ 69  -1]\n",
        "                         [ 69  -1]\n",
        "                         [ 69  -1]\n",
        "                         [712  -1]\n",
        "                         [712  -1]\n",
        "                         [831  -1]\n",
        "                         [831  -1]\n",
        "                         [831  -1]\n",
        "                         [831  -1]\n",
        "                         [831  -1]\n",
        "                         [831  -1]\n",
        "                         [831  -1]\n",
        "                         [831  -1]\n",
        "                         [605  -1]\n",
        "                         [605  -1]\n",
        "                         [922  -1]\n",
        "                         [922  -1]\n",
        "                         [ 33  -1]\n",
        "                         [ 33  -1]\n",
        "                         [ 33  -1]\n",
        "                         [ 33  -1]\n",
        "                         [ 33  -1]\n",
        "                         [ 33  -1]\n",
        "                         [ 33  -1]\n",
        "                         [ 57  -1]\n",
        "                         [ 57  -1]\n",
        "                         [779  -1]\n",
        "                         [640  -1]\n",
        "                         [640  -1]\n",
        "                         [640  -1]\n",
        "                         [640  -1]\n",
        "                         [640  -1]\n",
        "                         [640  -1]\n",
        "                         [640  -1]\n",
        "                         [185  -1]\n",
        "                         [185  -1]\n",
        "                         [271  -1]\n",
        "                         [271  -1]\n",
        "                         [271  -1]\n",
        "                         [271  -1]\n",
        "                         [271  -1]\n",
        "                         [271  -1]\n",
        "                         [271  -1]\n",
        "                         [271  -1]\n",
        "                         [271  -1]\n",
        "                         [271  -1]\n",
        "                         [362  -1]\n",
        "                         [362  -1]\n",
        "                         [643  -1]\n",
        "                         [643  -1]\n",
        "                         [643  -1]\n",
        "                         [ 92  -1]\n",
        "                         [ 92  -1]\n",
        "                         [193  -1]\n",
        "                         [ 25  -1]\n",
        "                         [ 25  -1]\n",
        "                         [ 45  -1]\n",
        "                         [ 45  -1]\n",
        "                         [576  -1]\n",
        "                         [576  -1]\n",
        "                         [576  -1]\n",
        "                         [576  -1]\n",
        "                         [205  -1]\n",
        "                         [205  -1]\n",
        "                         [207  -1]\n",
        "                         [207  -1]\n",
        "                         [207  -1]\n",
        "                         [207  -1]\n",
        "                         [207  -1]\n",
        "                         [207  -1]\n",
        "                         [235  -1]\n",
        "                         [235  -1]\n",
        "                         [235  -1]\n",
        "                         [235  -1]\n",
        "                         [235  -1]\n",
        "                         [ 89  -1]\n",
        "                         [ 89  -1]\n",
        "                         [581  -1]\n",
        "                         [581  -1]\n",
        "                         [ 75  -1]\n",
        "                         [ 63  -1]\n",
        "                         [ 63  -1]\n",
        "                         [  9  -1]\n",
        "                         [  9  -1]\n",
        "                         [173  -1]\n",
        "                         [173  -1]\n",
        "                         [173  -1]\n",
        "                         [173  -1]\n",
        "                         [173  -1]\n",
        "                         [173  -1]\n",
        "                         [253  -1]\n",
        "                         [904  -1]\n",
        "                         [904  -1]\n",
        "                         [ 55  -1]\n",
        "                         [ 55  -1]\n",
        "                         [ 55  -1]\n",
        "                         [ 55  -1]\n",
        "                         [ 55  -1]\n",
        "                         [ 55  -1]\n",
        "                         [ 57  -1]\n",
        "                         [ 57  -1]\n",
        "                         [ 57  -1]\n",
        "                         [ 57  -1]\n",
        "                         [ 57  -1]\n",
        "                         [ 50  -1]\n",
        "                         [619  -1]\n",
        "                         [619  -1]\n",
        "                         [619  -1]\n",
        "                         [294  -1]\n",
        "                         [294  -1]\n",
        "                         [ 60  -1]\n",
        "                         [ 60  -1]\n",
        "                         [ 60  -1]\n",
        "                         [ 60  -1]\n",
        "                         [ 60  -1]\n",
        "                         [ 60  -1]\n",
        "                         [472  -1]\n",
        "                         [472  -1]\n",
        "                         [ 76  -1]\n",
        "                         [ 76  -1]\n",
        "                         [ 76  -1]\n",
        "                         [ 76  -1]\n",
        "                         [ 76  -1]\n",
        "                         [ 76  -1]\n",
        "                         [ 76  -1]\n",
        "                         [ 76  -1]\n",
        "                         [916  -1]\n",
        "                         [916  -1]\n",
        "                         [528  -1]\n",
        "                         [528  -1]\n",
        "                         [500  -1]\n",
        "                         [500  -1]\n",
        "                         [500  -1]\n",
        "                         [500  -1]\n",
        "                         [500  -1]\n",
        "                         [689  -1]\n",
        "                         [689  -1]\n",
        "                         [611  -1]\n",
        "                         [611  -1]\n",
        "                         [611  -1]\n",
        "                         [611  -1]\n",
        "                         [611  -1]\n",
        "                         [611  -1]\n",
        "                         [611  -1]\n",
        "                         [611  -1]\n",
        "                         [909  -1]\n",
        "                         [585  -1]\n",
        "                         [585  -1]\n",
        "                         [801  -1]\n",
        "                         [801  -1]\n",
        "                         [801  -1]\n",
        "                         [801  -1]\n",
        "                         [801  -1]\n",
        "                         [801  -1]\n",
        "                         [ 36  -1]\n",
        "                         [ 36  -1]\n",
        "                         [189  -1]\n",
        "                         [189  -1]\n",
        "                         [753  -1]\n",
        "                         [753  -1]\n",
        "                         [ 97  -1]\n",
        "                         [ 97  -1]\n",
        "                         [ 97  -1]\n",
        "                         [ 97  -1]\n",
        "                         [489  -1]\n",
        "                         [489  -1]\n",
        "                         [738  -1]\n",
        "                         [738  -1]\n",
        "                         [619  -1]\n",
        "                         [619  -1]\n",
        "                         [ 46  -1]\n",
        "                         [ 46  -1]\n",
        "                         [ 46  -1]\n",
        "                         [ 46  -1]\n",
        "                         [ 46  -1]\n",
        "                         [ 54  -1]\n",
        "                         [ 54  -1]\n",
        "                         [ 54  -1]\n",
        "                         [ 54  -1]\n",
        "                         [ 87  -1]\n",
        "                         [ 87  -1]\n",
        "                         [ 87  -1]\n",
        "                         [578  -1]\n",
        "                         [578  -1]\n",
        "                         [578  -1]\n",
        "                         [578  -1]\n",
        "                         [578  -1]\n",
        "                         [578  -1]\n",
        "                         [578  -1]\n",
        "                         [588  -1]\n",
        "                         [588  -1]\n",
        "                         [687  -1]\n",
        "                         [687  -1]\n",
        "                         [687  -1]\n",
        "                         [764  -1]\n",
        "                         [764  -1]\n",
        "                         [764  -1]\n",
        "                         [687  -1]\n",
        "                         [687  -1]\n",
        "                         [687  -1]\n",
        "                         [687  -1]\n",
        "                         [687  -1]\n",
        "                         [687  -1]\n",
        "                         [687  -1]\n",
        "                         [687  -1]\n",
        "                         [637  -1]\n",
        "                         [430  -1]\n",
        "                         [ 83  -1]\n",
        "                         [ 83  -1]\n",
        "                         [ 83  -1]\n",
        "                         [116  -1]\n",
        "                         [116  -1]\n",
        "                         [116  -1]\n",
        "                         [327  -1]\n",
        "                         [327  -1]\n",
        "                         [329  -1]\n",
        "                         [329  -1]\n",
        "                         [ 30  -1]\n",
        "                         [ 30  -1]\n",
        "                         [ 30  -1]\n",
        "                         [ 30  -1]\n",
        "                         [ 13  -1]\n",
        "                         [ 13  -1]\n",
        "                         [280  -1]\n",
        "                         [280  -1]\n",
        "                         [282  -1]\n",
        "                         [282  -1]\n",
        "                         [282  -1]\n",
        "                         [282  -1]\n",
        "                         [282  -1]\n",
        "                         [232  -1]\n",
        "                         [232  -1]\n",
        "                         [232  -1]\n",
        "                         [373  -1]\n",
        "                         [373  -1]\n",
        "                         [373  -1]\n",
        "                         [373  -1]\n",
        "                         [155  -1]\n",
        "                         [254  -1]\n",
        "                         [ 69  -1]\n",
        "                         [ 69  -1]\n",
        "                         [ 69  -1]\n",
        "                         [ 69  -1]\n",
        "                         [373  -1]\n",
        "                         [271  -1]\n",
        "                         [271  -1]\n",
        "                         [ 27  -1]\n",
        "                         [ 27  -1]\n",
        "                         [ 27  -1]\n",
        "                         [ 27  -1]\n",
        "                         [ 27  -1]\n",
        "                         [503  -1]\n",
        "                         [361  -1]\n",
        "                         [ 76  -1]\n",
        "                         [ 76  -1]\n",
        "                         [174  -1]\n",
        "                         [174  -1]\n",
        "                         [ 53  -1]\n",
        "                         [ 53  -1]\n",
        "                         [ 53  -1]\n",
        "                         [175  -1]\n",
        "                         [175  -1]\n",
        "                         [362  -1]\n",
        "                         [362  -1]\n",
        "                         [417  -1]\n",
        "                         [417  -1]\n",
        "                         [313  -1]\n",
        "                         [313  -1]\n",
        "                         [313  -1]\n",
        "                         [231  -1]\n",
        "                         [231  -1]\n",
        "                         [207  -1]\n",
        "                         [207  -1]\n",
        "                         [207  -1]\n",
        "                         [207  -1]\n",
        "                         [ 95  -1]\n",
        "                         [ 95  -1]\n",
        "                         [ 95  -1]\n",
        "                         [ 95  -1]\n",
        "                         [ 95  -1]\n",
        "                         [ 95  -1]\n",
        "                         [498  -1]\n",
        "                         [498  -1]\n",
        "                         [781  -1]\n",
        "                         [781  -1]\n",
        "                         [781  -1]\n",
        "                         [  7  -1]\n",
        "                         [  7  -1]\n",
        "                         [  7  -1]\n",
        "                         [  7  -1]\n",
        "                         [  7  -1]\n",
        "                         [  7  -1]\n",
        "                         [  7  -1]\n",
        "                         [300  -1]\n",
        "                         [300  -1]\n",
        "                         [173  -1]\n",
        "                         [173  -1]\n",
        "                         [154  -1]\n",
        "                         [154  -1]\n",
        "                         [ 55  -1]\n",
        "                         [ 38  -1]\n",
        "                         [ 38  -1]\n",
        "                         [ 38  -1]\n",
        "                         [ 66  -1]\n",
        "                         [ 66  -1]\n",
        "                         [ 66  -1]\n",
        "                         [ 30  -1]\n",
        "                         [ 30  -1]\n",
        "                         [ 30  -1]\n",
        "                         [ 30  -1]\n",
        "                         [ 30  -1]\n",
        "                         [ 30  -1]\n",
        "                         [ 91  -1]\n",
        "                         [ 91  -1]\n",
        "                         [ 91  -1]\n",
        "                         [ 91  -1]\n",
        "                         [ 91  -1]\n",
        "                         [ 91  -1]\n",
        "                         [ 91  -1]\n",
        "                         [ 56  -1]\n",
        "                         [ 56  -1]\n",
        "                         [150  -1]\n",
        "                         [150  -1]\n",
        "                         [150  -1]\n",
        "                         [150  -1]\n",
        "                         [150  -1]\n",
        "                         [150  -1]\n",
        "                         [150  -1]\n",
        "                         [150  -1]\n",
        "                         [150  -1]\n",
        "                         [171  -1]\n",
        "                         [171  -1]\n",
        "                         [171  -1]\n",
        "                         [171  -1]\n",
        "                         [171  -1]\n",
        "                         [171  -1]\n",
        "                         [ 11  -1]\n",
        "                         [ 11  -1]\n",
        "                         [ 11  -1]\n",
        "                         [ 11  -1]\n",
        "                         [ 11  -1]\n",
        "                         [173  -1]\n",
        "                         [173  -1]\n",
        "                         [173  -1]\n",
        "                         [173  -1]\n",
        "                         [173  -1]\n",
        "                         [173  -1]\n",
        "                         [173  -1]\n",
        "                         [173  -1]\n",
        "                         [173  -1]\n",
        "                         [ 89  -1]\n",
        "                         [ 89  -1]\n",
        "                         [ 89  -1]\n",
        "                         [ 36  -1]\n",
        "                         [183  -1]\n",
        "                         [183  -1]\n",
        "                         [ 64  -1]\n",
        "                         [ 64  -1]\n",
        "                         [113  -1]\n",
        "                         [113  -1]\n",
        "                         [ 54  -1]\n",
        "                         [ 54  -1]\n",
        "                         [ 18  -1]\n",
        "                         [ 18  -1]\n",
        "                         [178  -1]\n",
        "                         [178  -1]\n",
        "                         [249  -1]\n",
        "                         [249  -1]\n",
        "                         [249  -1]\n",
        "                         [249  -1]\n",
        "                         [249  -1]\n",
        "                         [ 33  -1]\n",
        "                         [ 33  -1]\n",
        "                         [ 33  -1]\n",
        "                         [ 33  -1]\n",
        "                         [192  -1]\n",
        "                         [473  -1]\n",
        "                         [521  -1]\n",
        "                         [521  -1]\n",
        "                         [521  -1]\n",
        "                         [521  -1]\n",
        "                         [521  -1]\n",
        "                         [456  -1]\n",
        "                         [456  -1]]"
       ]
      },
      {
       "output_type": "stream",
       "stream": "stdout",
       "text": [
        "\n"
       ]
      },
      {
       "output_type": "stream",
       "stream": "stdout",
       "text": [
        "                    psrc_parcel.person_x_school.am_total_transit_time_walk_from_home_to_school"
       ]
      },
      {
       "output_type": "stream",
       "stream": "stdout",
       "text": [
        "\n"
       ]
      },
      {
       "output_type": "stream",
       "stream": "stdout",
       "text": [
        "                walktime_if_same_distr = psrc_parcel.person_x_school.am_total_transit_time_walk_from_home_to_school*psrc_parcel.person_x_school.same_school_district"
       ]
      },
      {
       "output_type": "stream",
       "stream": "stdout",
       "text": [
        "\n"
       ]
      },
      {
       "output_type": "stream",
       "stream": "stdout",
       "text": [
        "                Choice set size: 100"
       ]
      },
      {
       "output_type": "stream",
       "stream": "stdout",
       "text": [
        "\n"
       ]
      },
      {
       "output_type": "stream",
       "stream": "stdout",
       "text": [
        "                submodel: -2"
       ]
      },
      {
       "output_type": "stream",
       "stream": "stdout",
       "text": [
        "\n"
       ]
      },
      {
       "output_type": "stream",
       "stream": "stdout",
       "text": [
        "                Convergence achieved."
       ]
      },
      {
       "output_type": "stream",
       "stream": "stdout",
       "text": [
        "\n"
       ]
      },
      {
       "output_type": "stream",
       "stream": "stdout",
       "text": [
        "                Akaike's Information Criterion (AIC):  1252.89809536"
       ]
      },
      {
       "output_type": "stream",
       "stream": "stdout",
       "text": [
        "\n"
       ]
      },
      {
       "output_type": "stream",
       "stream": "stdout",
       "text": [
        "                Bayesian Information Criterion (BIC):  1262.32308603"
       ]
      },
      {
       "output_type": "stream",
       "stream": "stdout",
       "text": [
        "\n"
       ]
      },
      {
       "output_type": "stream",
       "stream": "stdout",
       "text": [
        "                Number of Iterations:  31"
       ]
      },
      {
       "output_type": "stream",
       "stream": "stdout",
       "text": [
        "\n"
       ]
      },
      {
       "output_type": "stream",
       "stream": "stdout",
       "text": [
        "                ***********************************************"
       ]
      },
      {
       "output_type": "stream",
       "stream": "stdout",
       "text": [
        "\n"
       ]
      },
      {
       "output_type": "stream",
       "stream": "stdout",
       "text": [
        "                Log-likelihood is:            -623.449047682"
       ]
      },
      {
       "output_type": "stream",
       "stream": "stdout",
       "text": [
        "\n"
       ]
      },
      {
       "output_type": "stream",
       "stream": "stdout",
       "text": [
        "                Null Log-likelihood is:       -787.484101804"
       ]
      },
      {
       "output_type": "stream",
       "stream": "stdout",
       "text": [
        "\n"
       ]
      },
      {
       "output_type": "stream",
       "stream": "stdout",
       "text": [
        "                Likelihood ratio index:       0.208302686678"
       ]
      },
      {
       "output_type": "stream",
       "stream": "stdout",
       "text": [
        "\n"
       ]
      },
      {
       "output_type": "stream",
       "stream": "stdout",
       "text": [
        "                Adj. likelihood ratio index:  0.204493085959"
       ]
      },
      {
       "output_type": "stream",
       "stream": "stdout",
       "text": [
        "\n"
       ]
      },
      {
       "output_type": "stream",
       "stream": "stdout",
       "text": [
        "                Number of observations:       171"
       ]
      },
      {
       "output_type": "stream",
       "stream": "stdout",
       "text": [
        "\n"
       ]
      },
      {
       "output_type": "stream",
       "stream": "stdout",
       "text": [
        "                Number of alternatives:       100"
       ]
      },
      {
       "output_type": "stream",
       "stream": "stdout",
       "text": [
        "\n"
       ]
      },
      {
       "output_type": "stream",
       "stream": "stdout",
       "text": [
        "                Suggested |t-value| >         2.26752366173"
       ]
      },
      {
       "output_type": "stream",
       "stream": "stdout",
       "text": [
        "\n"
       ]
      },
      {
       "output_type": "stream",
       "stream": "stdout",
       "text": [
        "                Convergence statistic is:     0.00090362150195"
       ]
      },
      {
       "output_type": "stream",
       "stream": "stdout",
       "text": [
        "\n"
       ]
      },
      {
       "output_type": "stream",
       "stream": "stdout",
       "text": [
        "                -----------------------------------------------"
       ]
      },
      {
       "output_type": "stream",
       "stream": "stdout",
       "text": [
        "\n"
       ]
      },
      {
       "output_type": "stream",
       "stream": "stdout",
       "text": [
        "                Coeff_names\testimate\tstd err\t\tt-values"
       ]
      },
      {
       "output_type": "stream",
       "stream": "stdout",
       "text": [
        "\n"
       ]
      },
      {
       "output_type": "stream",
       "stream": "stdout",
       "text": [
        "                same_school_district\t 4.26451\t 0.29115\t 14.6471"
       ]
      },
      {
       "output_type": "stream",
       "stream": "stdout",
       "text": [
        "\n"
       ]
      },
      {
       "output_type": "stream",
       "stream": "stdout",
       "text": [
        "                traveldist_if_out_distr\t-0.0312054\t0.00307622\t-10.1441"
       ]
      },
      {
       "output_type": "stream",
       "stream": "stdout",
       "text": [
        "\n"
       ]
      },
      {
       "output_type": "stream",
       "stream": "stdout",
       "text": [
        "                walktime_if_same_distr\t-0.0419648\t0.00435982\t-9.62535"
       ]
      },
      {
       "output_type": "stream",
       "stream": "stdout",
       "text": [
        "\n"
       ]
      },
      {
       "output_type": "stream",
       "stream": "stdout",
       "text": [
        "                ***********************************************"
       ]
      },
      {
       "output_type": "stream",
       "stream": "stdout",
       "text": [
        "\n"
       ]
      },
      {
       "output_type": "stream",
       "stream": "stdout",
       "text": [
        "            Estimating School Location Choice Model (from psrc_parcel.models.school_choice_model): completed...3.4 sec"
       ]
      },
      {
       "output_type": "stream",
       "stream": "stdout",
       "text": [
        "\n"
       ]
      },
      {
       "output_type": "stream",
       "stream": "stdout",
       "text": [
        "        Simulate year 2006: completed....................................4.8 sec"
       ]
      },
      {
       "output_type": "stream",
       "stream": "stdout",
       "text": [
        "\n"
       ]
      },
      {
       "output_type": "stream",
       "stream": "stdout",
       "text": [
        "        Closing log file: /Users/hana/workspace/data/psrc_parcel/base_year_data_school_estimation/year_2006_log.txt"
       ]
      },
      {
       "output_type": "stream",
       "stream": "stdout",
       "text": [
        "\n"
       ]
      },
      {
       "output_type": "stream",
       "stream": "stdout",
       "text": [
        "    Starting simulation for year 2006: completed.........................4.9 sec"
       ]
      },
      {
       "output_type": "stream",
       "stream": "stdout",
       "text": [
        "\n"
       ]
      },
      {
       "output_type": "stream",
       "stream": "stdout",
       "text": [
        "Start simulation run: completed..........................................4.9 sec"
       ]
      },
      {
       "output_type": "stream",
       "stream": "stdout",
       "text": [
        "\n"
       ]
      },
      {
       "output_type": "stream",
       "stream": "stdout",
       "text": [
        "Closing log file: /Users/hana/workspace/data/psrc_parcel/base_year_data_school_estimation/run_model_system.log"
       ]
      },
      {
       "output_type": "stream",
       "stream": "stdout",
       "text": [
        "\n"
       ]
      }
     ],
     "prompt_number": 5
    },
    {
     "cell_type": "code",
     "collapsed": false,
     "input": [],
     "language": "python",
     "metadata": {},
     "outputs": []
    }
   ],
   "metadata": {}
  }
 ]
}